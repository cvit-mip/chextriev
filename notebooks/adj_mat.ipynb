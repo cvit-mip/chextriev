{
 "cells": [
  {
   "cell_type": "code",
   "execution_count": 2,
   "metadata": {},
   "outputs": [],
   "source": [
    "import torch\n",
    "import torch.nn as nn\n",
    "import math\n",
    "import numpy as np\n",
    "import pandas as pd\n",
    "from glob import glob\n",
    "from tqdm import tqdm\n",
    "\n",
    "import os\n",
    "import sys\n",
    "import inspect\n",
    "\n",
    "currentdir = os.path.dirname(os.path.abspath(inspect.getfile(inspect.currentframe())))\n",
    "parentdir = os.path.dirname(currentdir)\n",
    "sys.path.insert(0, parentdir) "
   ]
  },
  {
   "cell_type": "code",
   "execution_count": 5,
   "metadata": {},
   "outputs": [],
   "source": [
    "class coco_format():\n",
    "    def __init__(self) -> None:\n",
    "        \n",
    "        self.organs = [\"right lung\", \"right apical zone\", \"right upper lung zone\", \"right mid lung zone\", \n",
    "            \"right lower lung zone\", \"right hilar structures\", \"right costophrenic angle\", \"left lung\", \"left apical zone\",\n",
    "            \"left upper lung zone\", \"left mid lung zone\", \"left lower lung zone\", \"left hilar structures\", \n",
    "            \"left costophrenic angle\", \"mediastinum\", \"upper mediastinum\", \"cardiac silhouette\", \"trachea\"]\n",
    "        \n",
    "        self.diseaselist = ['lung opacity', 'pleural effusion', 'atelectasis', 'enlarged cardiac silhouette',\n",
    "        'pulmonary edema/hazy opacity', 'pneumothorax', 'consolidation', 'fluid overload/heart failure', 'pneumonia']\n",
    "       \n",
    "        self.scene_graphs_dir = '/home/ssd_scratch/users/arihanth.srikar/physionet.org/files/chest-imagenome/1.0.0/silver_dataset/scene_graph'\n",
    "        self.outputdir = \"/home/ssd_scratch/users/arihanth.srikar/physionet.org/files/chest-imagenome/1.0.0/silver_dataset\"\n",
    "        \n",
    "        print('Disease length is {}'.format(str(len(self.diseaselist))))\n",
    "\n",
    "        #obtain list of train, valid, test files\n",
    "        self.my_data = sorted(glob(f'{self.scene_graphs_dir}/*.json'))\n",
    "\n",
    "    def generate_data(self):  \n",
    "        images = []\n",
    "        categories = []\n",
    "        count = 0\n",
    "        coco_data = {}\n",
    "        imagesID = []\n",
    "        labels = []\n",
    "        for filename in tqdm(self.my_data):\n",
    "            image_json = {}\n",
    "            annotations = []\n",
    "            if 'DS_Store' not in filename:\n",
    "                count += 1\n",
    "                hasattributes = 0\n",
    "                # print('Processing file {}'.format(str(count)))\n",
    "                try:\n",
    "                    f = open(str(filename),) \n",
    "                except FileNotFoundError:\n",
    "                    print('{} not in directory'.format(filename))\n",
    "                else:\n",
    "                    data = json.load(f)\n",
    "                    imageID = data['image_id']\n",
    "                    ids = [obj['object_id'] for obj in data['objects']]\n",
    "                    ignore = 0\n",
    "                    hasdisease = 1\n",
    "                    for objects in data['objects']:\n",
    "                        hasdisease = 1\n",
    "                        # objectID = attribute['object_id']\n",
    "                        row = np.zeros([len(self.diseaselist)])\n",
    "                        if objects['object_id'].split('_')[1] in self.organs:\n",
    "                            annotation_json = {}\n",
    "                            for attribute in data['attributes']:\n",
    "                                if attribute['object_id'] == objects['object_id']:\n",
    "                                    for diseases in attribute['attributes']:\n",
    "                                        for disease in diseases:                                                \n",
    "                                            if disease.split('|')[2] in self.diseaselist:\n",
    "                                                hasdisease = 1\n",
    "                                                hasattributes = 1\n",
    "                                                class_index = self.diseaselist.index(disease.split('|')[2])\n",
    "                                                if disease.split('|')[1] == 'yes':\n",
    "                                                    row[class_index] = int(1)\n",
    "                                                else:\n",
    "                                                    row[class_index] = int(0)\n",
    "                                annotation_json['id'] = objects['object_id']\n",
    "                                annotation_json['category_id'] = self.organs.index(objects['object_id'].split('_')[1])\n",
    "                                annotation_json['iscrowd'] = 0\n",
    "                                annotation_json[\"bbox_mode\"] = 1\n",
    "                                annotation_json['image_id'] = data['image_id']\n",
    "                                int_row = row.astype(int)\n",
    "                                annotation_json['attributes'] = int_row.tolist()\n",
    "                                annotation_json['bbox'] = [objects['original_x1'], objects['original_y1'],\n",
    "                                objects['original_width'], objects['original_height']]\n",
    "                                annotations.append(annotation_json)\n",
    "            \n",
    "                    image_json['image_id'] = data['image_id']\n",
    "                    myfile = str(data['image_id']) + '.jpg'\n",
    "                    image_json['file_name'] = myfile\n",
    "                    # path = os.path.join(self.imageroot, myfile) #\"./VG/data/\" + myfile\n",
    "                    # im = Image.open(path)\n",
    "                    # image_json['width'], image_json['height'] = im.size\n",
    "                    image_json['annotations'] = annotations\n",
    "                    # # imagesID.append(myfile)\n",
    "                    images.append(image_json)\n",
    "    \n",
    "        save_file_name = \"xray_coco_all.json\"\n",
    "        filename = os.path.join(self.outputdir, save_file_name)\n",
    "        with open(filename, 'w', encoding='utf-8') as f:\n",
    "            json.dump(images, f, ensure_ascii=False, indent=4)            \n",
    "        \n",
    "# x_ray_coco = coco_format()\n",
    "# x_ray_coco.generate_data()"
   ]
  },
  {
   "cell_type": "code",
   "execution_count": null,
   "metadata": {},
   "outputs": [],
   "source": [
    "print(\"Loading dataset\")\n",
    "df = pd.read_json('/home/ssd_scratch/users/arihanth.srikar/physionet.org/files/chest-imagenome/1.0.0/silver_dataset/mimic_coco_filtered.json')\n",
    "temp_df = pd.read_csv('data/mimic_cxr_jpg/mimic-cxr-2.0.0-final.csv')\n",
    "temp_df.rename(columns={'dicom_id': 'image_id'}, inplace=True)\n",
    "df = df.merge(temp_df, on='image_id', how='left')\n",
    "print(\"Dataset loaded\")"
   ]
  },
  {
   "cell_type": "code",
   "execution_count": 6,
   "metadata": {},
   "outputs": [],
   "source": [
    "import os\n",
    "import shutil\n",
    "import json\n",
    "import statistics\n",
    "from PIL import Image\n",
    "import random\n",
    "import matplotlib.pyplot as plt\n",
    "from collections import Counter\n",
    "from sklearn.metrics import jaccard_score\n",
    "\n",
    "class AdjacencyMatrices():\n",
    "    '''\n",
    "    The Similarity measure between each pair of anatomy objects A and B\n",
    "    Jaccard similarity measure is used to measure the similarity between \n",
    "    each object, by measuring the average similarity over every disease class\n",
    "    '''\n",
    "    def __init__(self, df: pd.DataFrame, split: str='val') -> None:\n",
    "        self.split = 'validate' if 'val' in split else split\n",
    "        self.df = df[df['split'] == self.split]\n",
    "        self.outputdir = \"/home/ssd_scratch/users/arihanth.srikar/physionet.org/files/chest-imagenome/1.0.0/silver_dataset\"\n",
    "        \n",
    "        self.diseaselist = ['lung opacity', 'pleural effusion', 'atelectasis', 'enlarged cardiac silhouette',\n",
    "        'pulmonary edema/hazy opacity', 'pneumothorax', 'consolidation', 'fluid overload/heart failure', 'pneumonia']\n",
    "\n",
    "        self.organs = [\"right lung\", \"right apical zone\", \"right upper lung zone\", \"right mid lung zone\", \n",
    "        \"right lower lung zone\", \"right hilar structures\", \"right costophrenic angle\", \"left lung\", \"left apical zone\",\n",
    "        \"left upper lung zone\", \"left mid lung zone\", \"left lower lung zone\", \"left hilar structures\", \n",
    "        \"left costophrenic angle\", \"mediastinum\", \"upper mediastinum\", \"cardiac silhouette\", \"trachea\"]\n",
    "\n",
    "    def anatomy(self):\n",
    "        error = 1e-9\n",
    "        anatomy_len = len(self.organs)\n",
    "        row = self.organs\n",
    "        column = self.organs\n",
    "        adj_matrix = []\n",
    "\n",
    "        for ind, B in enumerate(row):\n",
    "            print(\"Processing {} from row {}\".format(B, str(ind)))\n",
    "            rows = np.zeros([len(self.organs)]) \n",
    "            for inde, A in enumerate(tqdm(column)):\n",
    "                # print(\"Processing {} from column {}\".format(A, str(inde)))\n",
    "                AnB_count = 0\n",
    "                B_count = 0\n",
    "                row_counter = Counter()\n",
    "                column_counter = Counter()\n",
    "                a_val = []\n",
    "                b_val = []\n",
    "                p_anb = 0\n",
    "                \n",
    "                for annotation_dict in self.df['annotations']:\n",
    "                    ids = [self.organs[int(obj['category_id'])] for obj in annotation_dict]\n",
    "                    aa = []\n",
    "                    bb = []\n",
    "                    if set(ids) == set(self.organs):\n",
    "                        for relation in annotation_dict:\n",
    "                            if int(relation['category_id']) == ind:\n",
    "                                bb = relation['attributes']\n",
    "                        for relations in annotation_dict:\n",
    "                            if int(relations['category_id']) == inde:\n",
    "                                aa = relations['attributes']\n",
    "                        if np.count_nonzero(np.array(aa)) > 0 or np.count_nonzero(np.array(bb)) > 0:\n",
    "                            b_val.append(bb)\n",
    "                            a_val.append(aa)\n",
    "                    else:\n",
    "                        continue\n",
    "\n",
    "                df_A = pd.DataFrame(a_val, columns=self.diseaselist)\n",
    "                df_B = pd.DataFrame(b_val, columns=self.diseaselist)\n",
    "                \n",
    "                assert len(b_val) == len(a_val)\n",
    "                \n",
    "                if not df_A.empty:\n",
    "                    jaccard_list = []\n",
    "                    for disease in self.diseaselist:\n",
    "                        jaccard = jaccard_score(df_B[disease], df_A[disease], average='macro')\n",
    "                        jaccard_list.append(jaccard)\n",
    "                    p_anb = statistics.mean(jaccard_list)\n",
    "\n",
    "                if ind == inde:\n",
    "                    p_anb = 1\n",
    "                if p_anb > 0.5:\n",
    "                    p_anb = 1\n",
    "                else:\n",
    "                    p_anb = 0\n",
    "                \n",
    "                rows[inde] = p_anb\n",
    "            adj_matrix.append(rows.tolist())\n",
    "\n",
    "        \n",
    "        df = pd.DataFrame(adj_matrix, columns=self.organs)\n",
    "        filename = os.path.join(self.outputdir, f'anatomy_matrix_{self.split}.csv')\n",
    "        df.to_csv(filename, sep='\\t', index=False)\n",
    "        return df\n",
    "\n",
    "# matrix = AdjacencyMatrices()\n",
    "# anatomy = matrix.anatomy()"
   ]
  },
  {
   "cell_type": "code",
   "execution_count": 8,
   "metadata": {},
   "outputs": [
    {
     "name": "stdout",
     "output_type": "stream",
     "text": [
      "Processing right lung from row 0\n"
     ]
    },
    {
     "name": "stderr",
     "output_type": "stream",
     "text": [
      "100%|██████████| 18/18 [00:01<00:00, 13.44it/s]\n"
     ]
    },
    {
     "name": "stdout",
     "output_type": "stream",
     "text": [
      "Processing right apical zone from row 1\n"
     ]
    },
    {
     "name": "stderr",
     "output_type": "stream",
     "text": [
      "100%|██████████| 18/18 [00:01<00:00, 16.35it/s]\n"
     ]
    },
    {
     "name": "stdout",
     "output_type": "stream",
     "text": [
      "Processing right upper lung zone from row 2\n"
     ]
    },
    {
     "name": "stderr",
     "output_type": "stream",
     "text": [
      "100%|██████████| 18/18 [00:01<00:00, 15.36it/s]\n"
     ]
    },
    {
     "name": "stdout",
     "output_type": "stream",
     "text": [
      "Processing right mid lung zone from row 3\n"
     ]
    },
    {
     "name": "stderr",
     "output_type": "stream",
     "text": [
      "100%|██████████| 18/18 [00:01<00:00, 15.48it/s]\n"
     ]
    },
    {
     "name": "stdout",
     "output_type": "stream",
     "text": [
      "Processing right lower lung zone from row 4\n"
     ]
    },
    {
     "name": "stderr",
     "output_type": "stream",
     "text": [
      "100%|██████████| 18/18 [00:01<00:00, 14.55it/s]\n"
     ]
    },
    {
     "name": "stdout",
     "output_type": "stream",
     "text": [
      "Processing right hilar structures from row 5\n"
     ]
    },
    {
     "name": "stderr",
     "output_type": "stream",
     "text": [
      "100%|██████████| 18/18 [00:01<00:00, 13.91it/s]\n"
     ]
    },
    {
     "name": "stdout",
     "output_type": "stream",
     "text": [
      "Processing right costophrenic angle from row 6\n"
     ]
    },
    {
     "name": "stderr",
     "output_type": "stream",
     "text": [
      "100%|██████████| 18/18 [00:01<00:00, 16.42it/s]\n"
     ]
    },
    {
     "name": "stdout",
     "output_type": "stream",
     "text": [
      "Processing left lung from row 7\n"
     ]
    },
    {
     "name": "stderr",
     "output_type": "stream",
     "text": [
      "100%|██████████| 18/18 [00:01<00:00, 15.48it/s]\n"
     ]
    },
    {
     "name": "stdout",
     "output_type": "stream",
     "text": [
      "Processing left apical zone from row 8\n"
     ]
    },
    {
     "name": "stderr",
     "output_type": "stream",
     "text": [
      "100%|██████████| 18/18 [00:01<00:00, 14.37it/s]\n"
     ]
    },
    {
     "name": "stdout",
     "output_type": "stream",
     "text": [
      "Processing left upper lung zone from row 9\n"
     ]
    },
    {
     "name": "stderr",
     "output_type": "stream",
     "text": [
      "100%|██████████| 18/18 [00:01<00:00, 14.88it/s]\n"
     ]
    },
    {
     "name": "stdout",
     "output_type": "stream",
     "text": [
      "Processing left mid lung zone from row 10\n"
     ]
    },
    {
     "name": "stderr",
     "output_type": "stream",
     "text": [
      "100%|██████████| 18/18 [00:01<00:00, 14.46it/s]\n"
     ]
    },
    {
     "name": "stdout",
     "output_type": "stream",
     "text": [
      "Processing left lower lung zone from row 11\n"
     ]
    },
    {
     "name": "stderr",
     "output_type": "stream",
     "text": [
      "100%|██████████| 18/18 [00:01<00:00, 11.96it/s]\n"
     ]
    },
    {
     "name": "stdout",
     "output_type": "stream",
     "text": [
      "Processing left hilar structures from row 12\n"
     ]
    },
    {
     "name": "stderr",
     "output_type": "stream",
     "text": [
      "100%|██████████| 18/18 [00:01<00:00, 13.35it/s]\n"
     ]
    },
    {
     "name": "stdout",
     "output_type": "stream",
     "text": [
      "Processing left costophrenic angle from row 13\n"
     ]
    },
    {
     "name": "stderr",
     "output_type": "stream",
     "text": [
      "100%|██████████| 18/18 [00:01<00:00, 14.71it/s]\n"
     ]
    },
    {
     "name": "stdout",
     "output_type": "stream",
     "text": [
      "Processing mediastinum from row 14\n"
     ]
    },
    {
     "name": "stderr",
     "output_type": "stream",
     "text": [
      "100%|██████████| 18/18 [00:01<00:00, 14.22it/s]\n"
     ]
    },
    {
     "name": "stdout",
     "output_type": "stream",
     "text": [
      "Processing upper mediastinum from row 15\n"
     ]
    },
    {
     "name": "stderr",
     "output_type": "stream",
     "text": [
      "100%|██████████| 18/18 [00:00<00:00, 18.76it/s]\n"
     ]
    },
    {
     "name": "stdout",
     "output_type": "stream",
     "text": [
      "Processing cardiac silhouette from row 16\n"
     ]
    },
    {
     "name": "stderr",
     "output_type": "stream",
     "text": [
      "100%|██████████| 18/18 [00:01<00:00, 13.91it/s]\n"
     ]
    },
    {
     "name": "stdout",
     "output_type": "stream",
     "text": [
      "Processing trachea from row 17\n"
     ]
    },
    {
     "name": "stderr",
     "output_type": "stream",
     "text": [
      "100%|██████████| 18/18 [00:01<00:00, 17.58it/s]\n"
     ]
    }
   ],
   "source": [
    "val_matrix = AdjacencyMatrices(df, split='val')\n",
    "val_anatomy = val_matrix.anatomy()"
   ]
  },
  {
   "cell_type": "code",
   "execution_count": 9,
   "metadata": {},
   "outputs": [
    {
     "name": "stdout",
     "output_type": "stream",
     "text": [
      "Processing right lung from row 0\n"
     ]
    },
    {
     "name": "stderr",
     "output_type": "stream",
     "text": [
      "100%|██████████| 18/18 [00:02<00:00,  8.23it/s]\n"
     ]
    },
    {
     "name": "stdout",
     "output_type": "stream",
     "text": [
      "Processing right apical zone from row 1\n"
     ]
    },
    {
     "name": "stderr",
     "output_type": "stream",
     "text": [
      "100%|██████████| 18/18 [00:01<00:00, 10.17it/s]\n"
     ]
    },
    {
     "name": "stdout",
     "output_type": "stream",
     "text": [
      "Processing right upper lung zone from row 2\n"
     ]
    },
    {
     "name": "stderr",
     "output_type": "stream",
     "text": [
      "100%|██████████| 18/18 [00:01<00:00, 10.21it/s]\n"
     ]
    },
    {
     "name": "stdout",
     "output_type": "stream",
     "text": [
      "Processing right mid lung zone from row 3\n"
     ]
    },
    {
     "name": "stderr",
     "output_type": "stream",
     "text": [
      "100%|██████████| 18/18 [00:01<00:00, 10.49it/s]\n"
     ]
    },
    {
     "name": "stdout",
     "output_type": "stream",
     "text": [
      "Processing right lower lung zone from row 4\n"
     ]
    },
    {
     "name": "stderr",
     "output_type": "stream",
     "text": [
      "100%|██████████| 18/18 [00:01<00:00,  9.96it/s]\n"
     ]
    },
    {
     "name": "stdout",
     "output_type": "stream",
     "text": [
      "Processing right hilar structures from row 5\n"
     ]
    },
    {
     "name": "stderr",
     "output_type": "stream",
     "text": [
      "100%|██████████| 18/18 [00:01<00:00,  9.75it/s]\n"
     ]
    },
    {
     "name": "stdout",
     "output_type": "stream",
     "text": [
      "Processing right costophrenic angle from row 6\n"
     ]
    },
    {
     "name": "stderr",
     "output_type": "stream",
     "text": [
      "100%|██████████| 18/18 [00:01<00:00,  9.60it/s]\n"
     ]
    },
    {
     "name": "stdout",
     "output_type": "stream",
     "text": [
      "Processing left lung from row 7\n"
     ]
    },
    {
     "name": "stderr",
     "output_type": "stream",
     "text": [
      "100%|██████████| 18/18 [00:02<00:00,  7.70it/s]\n"
     ]
    },
    {
     "name": "stdout",
     "output_type": "stream",
     "text": [
      "Processing left apical zone from row 8\n"
     ]
    },
    {
     "name": "stderr",
     "output_type": "stream",
     "text": [
      "100%|██████████| 18/18 [00:01<00:00,  9.84it/s]\n"
     ]
    },
    {
     "name": "stdout",
     "output_type": "stream",
     "text": [
      "Processing left upper lung zone from row 9\n"
     ]
    },
    {
     "name": "stderr",
     "output_type": "stream",
     "text": [
      "100%|██████████| 18/18 [00:01<00:00, 10.04it/s]\n"
     ]
    },
    {
     "name": "stdout",
     "output_type": "stream",
     "text": [
      "Processing left mid lung zone from row 10\n"
     ]
    },
    {
     "name": "stderr",
     "output_type": "stream",
     "text": [
      "100%|██████████| 18/18 [00:02<00:00,  8.80it/s]\n"
     ]
    },
    {
     "name": "stdout",
     "output_type": "stream",
     "text": [
      "Processing left lower lung zone from row 11\n"
     ]
    },
    {
     "name": "stderr",
     "output_type": "stream",
     "text": [
      "100%|██████████| 18/18 [00:01<00:00,  9.61it/s]\n"
     ]
    },
    {
     "name": "stdout",
     "output_type": "stream",
     "text": [
      "Processing left hilar structures from row 12\n"
     ]
    },
    {
     "name": "stderr",
     "output_type": "stream",
     "text": [
      "100%|██████████| 18/18 [00:02<00:00,  8.78it/s]\n"
     ]
    },
    {
     "name": "stdout",
     "output_type": "stream",
     "text": [
      "Processing left costophrenic angle from row 13\n"
     ]
    },
    {
     "name": "stderr",
     "output_type": "stream",
     "text": [
      "100%|██████████| 18/18 [00:01<00:00,  9.11it/s]\n"
     ]
    },
    {
     "name": "stdout",
     "output_type": "stream",
     "text": [
      "Processing mediastinum from row 14\n"
     ]
    },
    {
     "name": "stderr",
     "output_type": "stream",
     "text": [
      "100%|██████████| 18/18 [00:01<00:00, 11.68it/s]\n"
     ]
    },
    {
     "name": "stdout",
     "output_type": "stream",
     "text": [
      "Processing upper mediastinum from row 15\n"
     ]
    },
    {
     "name": "stderr",
     "output_type": "stream",
     "text": [
      "100%|██████████| 18/18 [00:01<00:00,  9.74it/s]\n"
     ]
    },
    {
     "name": "stdout",
     "output_type": "stream",
     "text": [
      "Processing cardiac silhouette from row 16\n"
     ]
    },
    {
     "name": "stderr",
     "output_type": "stream",
     "text": [
      "100%|██████████| 18/18 [00:01<00:00,  9.19it/s]\n"
     ]
    },
    {
     "name": "stdout",
     "output_type": "stream",
     "text": [
      "Processing trachea from row 17\n"
     ]
    },
    {
     "name": "stderr",
     "output_type": "stream",
     "text": [
      "100%|██████████| 18/18 [00:01<00:00, 10.93it/s]\n"
     ]
    }
   ],
   "source": [
    "test_matrix = AdjacencyMatrices(df, split='test')\n",
    "test_anatomy = test_matrix.anatomy()"
   ]
  },
  {
   "cell_type": "code",
   "execution_count": 10,
   "metadata": {},
   "outputs": [
    {
     "name": "stdout",
     "output_type": "stream",
     "text": [
      "Processing right lung from row 0\n"
     ]
    },
    {
     "name": "stderr",
     "output_type": "stream",
     "text": [
      "100%|██████████| 18/18 [01:32<00:00,  5.13s/it]\n"
     ]
    },
    {
     "name": "stdout",
     "output_type": "stream",
     "text": [
      "Processing right apical zone from row 1\n"
     ]
    },
    {
     "name": "stderr",
     "output_type": "stream",
     "text": [
      "100%|██████████| 18/18 [01:17<00:00,  4.31s/it]\n"
     ]
    },
    {
     "name": "stdout",
     "output_type": "stream",
     "text": [
      "Processing right upper lung zone from row 2\n"
     ]
    },
    {
     "name": "stderr",
     "output_type": "stream",
     "text": [
      "100%|██████████| 18/18 [01:21<00:00,  4.55s/it]\n"
     ]
    },
    {
     "name": "stdout",
     "output_type": "stream",
     "text": [
      "Processing right mid lung zone from row 3\n"
     ]
    },
    {
     "name": "stderr",
     "output_type": "stream",
     "text": [
      "100%|██████████| 18/18 [01:22<00:00,  4.56s/it]\n"
     ]
    },
    {
     "name": "stdout",
     "output_type": "stream",
     "text": [
      "Processing right lower lung zone from row 4\n"
     ]
    },
    {
     "name": "stderr",
     "output_type": "stream",
     "text": [
      "100%|██████████| 18/18 [01:23<00:00,  4.65s/it]\n"
     ]
    },
    {
     "name": "stdout",
     "output_type": "stream",
     "text": [
      "Processing right hilar structures from row 5\n"
     ]
    },
    {
     "name": "stderr",
     "output_type": "stream",
     "text": [
      "100%|██████████| 18/18 [01:22<00:00,  4.59s/it]\n"
     ]
    },
    {
     "name": "stdout",
     "output_type": "stream",
     "text": [
      "Processing right costophrenic angle from row 6\n"
     ]
    },
    {
     "name": "stderr",
     "output_type": "stream",
     "text": [
      "100%|██████████| 18/18 [01:22<00:00,  4.57s/it]\n"
     ]
    },
    {
     "name": "stdout",
     "output_type": "stream",
     "text": [
      "Processing left lung from row 7\n"
     ]
    },
    {
     "name": "stderr",
     "output_type": "stream",
     "text": [
      "100%|██████████| 18/18 [01:55<00:00,  6.39s/it]\n"
     ]
    },
    {
     "name": "stdout",
     "output_type": "stream",
     "text": [
      "Processing left apical zone from row 8\n"
     ]
    },
    {
     "name": "stderr",
     "output_type": "stream",
     "text": [
      "100%|██████████| 18/18 [01:19<00:00,  4.41s/it]\n"
     ]
    },
    {
     "name": "stdout",
     "output_type": "stream",
     "text": [
      "Processing left upper lung zone from row 9\n"
     ]
    },
    {
     "name": "stderr",
     "output_type": "stream",
     "text": [
      "100%|██████████| 18/18 [01:19<00:00,  4.40s/it]\n"
     ]
    },
    {
     "name": "stdout",
     "output_type": "stream",
     "text": [
      "Processing left mid lung zone from row 10\n"
     ]
    },
    {
     "name": "stderr",
     "output_type": "stream",
     "text": [
      "100%|██████████| 18/18 [01:21<00:00,  4.55s/it]\n"
     ]
    },
    {
     "name": "stdout",
     "output_type": "stream",
     "text": [
      "Processing left lower lung zone from row 11\n"
     ]
    },
    {
     "name": "stderr",
     "output_type": "stream",
     "text": [
      "100%|██████████| 18/18 [01:26<00:00,  4.79s/it]\n"
     ]
    },
    {
     "name": "stdout",
     "output_type": "stream",
     "text": [
      "Processing left hilar structures from row 12\n"
     ]
    },
    {
     "name": "stderr",
     "output_type": "stream",
     "text": [
      "100%|██████████| 18/18 [01:24<00:00,  4.71s/it]\n"
     ]
    },
    {
     "name": "stdout",
     "output_type": "stream",
     "text": [
      "Processing left costophrenic angle from row 13\n"
     ]
    },
    {
     "name": "stderr",
     "output_type": "stream",
     "text": [
      "100%|██████████| 18/18 [01:23<00:00,  4.63s/it]\n"
     ]
    },
    {
     "name": "stdout",
     "output_type": "stream",
     "text": [
      "Processing mediastinum from row 14\n"
     ]
    },
    {
     "name": "stderr",
     "output_type": "stream",
     "text": [
      "100%|██████████| 18/18 [01:19<00:00,  4.43s/it]\n"
     ]
    },
    {
     "name": "stdout",
     "output_type": "stream",
     "text": [
      "Processing upper mediastinum from row 15\n"
     ]
    },
    {
     "name": "stderr",
     "output_type": "stream",
     "text": [
      "100%|██████████| 18/18 [01:15<00:00,  4.22s/it]\n"
     ]
    },
    {
     "name": "stdout",
     "output_type": "stream",
     "text": [
      "Processing cardiac silhouette from row 16\n"
     ]
    },
    {
     "name": "stderr",
     "output_type": "stream",
     "text": [
      "100%|██████████| 18/18 [01:22<00:00,  4.56s/it]\n"
     ]
    },
    {
     "name": "stdout",
     "output_type": "stream",
     "text": [
      "Processing trachea from row 17\n"
     ]
    },
    {
     "name": "stderr",
     "output_type": "stream",
     "text": [
      "100%|██████████| 18/18 [01:17<00:00,  4.29s/it]\n"
     ]
    }
   ],
   "source": [
    "train_matrix = AdjacencyMatrices(df, split='train')\n",
    "train_anatomy = train_matrix.anatomy()"
   ]
  },
  {
   "cell_type": "code",
   "execution_count": 16,
   "metadata": {},
   "outputs": [
    {
     "data": {
      "text/plain": [
       "array([0.89, 1.  , 0.72, 0.89, 1.  , 0.94, 0.94, 0.89, 1.  , 0.89, 0.89,\n",
       "       1.  , 0.94, 0.94, 0.94, 0.94, 1.  , 0.94])"
      ]
     },
     "execution_count": 16,
     "metadata": {},
     "output_type": "execute_result"
    }
   ],
   "source": [
    "np.round(np.sum(val_anatomy.to_numpy() == test_anatomy.to_numpy(), axis=1)/18, 2)"
   ]
  },
  {
   "cell_type": "code",
   "execution_count": 17,
   "metadata": {},
   "outputs": [
    {
     "data": {
      "text/plain": [
       "array([0.94, 1.  , 1.  , 0.89, 1.  , 0.94, 1.  , 0.94, 1.  , 0.67, 0.94,\n",
       "       1.  , 0.94, 1.  , 0.94, 0.94, 1.  , 0.94])"
      ]
     },
     "execution_count": 17,
     "metadata": {},
     "output_type": "execute_result"
    }
   ],
   "source": [
    "np.round(np.sum(train_anatomy.to_numpy() == test_anatomy.to_numpy(), axis=1)/18, 2)"
   ]
  },
  {
   "cell_type": "code",
   "execution_count": 18,
   "metadata": {},
   "outputs": [
    {
     "data": {
      "text/html": [
       "<div>\n",
       "<style scoped>\n",
       "    .dataframe tbody tr th:only-of-type {\n",
       "        vertical-align: middle;\n",
       "    }\n",
       "\n",
       "    .dataframe tbody tr th {\n",
       "        vertical-align: top;\n",
       "    }\n",
       "\n",
       "    .dataframe thead th {\n",
       "        text-align: right;\n",
       "    }\n",
       "</style>\n",
       "<table border=\"1\" class=\"dataframe\">\n",
       "  <thead>\n",
       "    <tr style=\"text-align: right;\">\n",
       "      <th></th>\n",
       "      <th>right lung</th>\n",
       "      <th>right apical zone</th>\n",
       "      <th>right upper lung zone</th>\n",
       "      <th>right mid lung zone</th>\n",
       "      <th>right lower lung zone</th>\n",
       "      <th>right hilar structures</th>\n",
       "      <th>right costophrenic angle</th>\n",
       "      <th>left lung</th>\n",
       "      <th>left apical zone</th>\n",
       "      <th>left upper lung zone</th>\n",
       "      <th>left mid lung zone</th>\n",
       "      <th>left lower lung zone</th>\n",
       "      <th>left hilar structures</th>\n",
       "      <th>left costophrenic angle</th>\n",
       "      <th>mediastinum</th>\n",
       "      <th>upper mediastinum</th>\n",
       "      <th>cardiac silhouette</th>\n",
       "      <th>trachea</th>\n",
       "    </tr>\n",
       "  </thead>\n",
       "  <tbody>\n",
       "    <tr>\n",
       "      <th>0</th>\n",
       "      <td>1.0</td>\n",
       "      <td>0.0</td>\n",
       "      <td>0.0</td>\n",
       "      <td>1.0</td>\n",
       "      <td>1.0</td>\n",
       "      <td>1.0</td>\n",
       "      <td>1.0</td>\n",
       "      <td>1.0</td>\n",
       "      <td>0.0</td>\n",
       "      <td>0.0</td>\n",
       "      <td>0.0</td>\n",
       "      <td>1.0</td>\n",
       "      <td>1.0</td>\n",
       "      <td>0.0</td>\n",
       "      <td>0.0</td>\n",
       "      <td>0.0</td>\n",
       "      <td>0.0</td>\n",
       "      <td>0.0</td>\n",
       "    </tr>\n",
       "    <tr>\n",
       "      <th>1</th>\n",
       "      <td>0.0</td>\n",
       "      <td>1.0</td>\n",
       "      <td>0.0</td>\n",
       "      <td>0.0</td>\n",
       "      <td>0.0</td>\n",
       "      <td>1.0</td>\n",
       "      <td>0.0</td>\n",
       "      <td>0.0</td>\n",
       "      <td>1.0</td>\n",
       "      <td>0.0</td>\n",
       "      <td>0.0</td>\n",
       "      <td>0.0</td>\n",
       "      <td>1.0</td>\n",
       "      <td>0.0</td>\n",
       "      <td>1.0</td>\n",
       "      <td>1.0</td>\n",
       "      <td>1.0</td>\n",
       "      <td>1.0</td>\n",
       "    </tr>\n",
       "    <tr>\n",
       "      <th>2</th>\n",
       "      <td>0.0</td>\n",
       "      <td>0.0</td>\n",
       "      <td>1.0</td>\n",
       "      <td>1.0</td>\n",
       "      <td>0.0</td>\n",
       "      <td>0.0</td>\n",
       "      <td>0.0</td>\n",
       "      <td>0.0</td>\n",
       "      <td>0.0</td>\n",
       "      <td>1.0</td>\n",
       "      <td>0.0</td>\n",
       "      <td>0.0</td>\n",
       "      <td>0.0</td>\n",
       "      <td>0.0</td>\n",
       "      <td>0.0</td>\n",
       "      <td>0.0</td>\n",
       "      <td>0.0</td>\n",
       "      <td>0.0</td>\n",
       "    </tr>\n",
       "    <tr>\n",
       "      <th>3</th>\n",
       "      <td>1.0</td>\n",
       "      <td>0.0</td>\n",
       "      <td>1.0</td>\n",
       "      <td>1.0</td>\n",
       "      <td>1.0</td>\n",
       "      <td>0.0</td>\n",
       "      <td>0.0</td>\n",
       "      <td>0.0</td>\n",
       "      <td>0.0</td>\n",
       "      <td>1.0</td>\n",
       "      <td>1.0</td>\n",
       "      <td>0.0</td>\n",
       "      <td>0.0</td>\n",
       "      <td>0.0</td>\n",
       "      <td>0.0</td>\n",
       "      <td>0.0</td>\n",
       "      <td>0.0</td>\n",
       "      <td>0.0</td>\n",
       "    </tr>\n",
       "    <tr>\n",
       "      <th>4</th>\n",
       "      <td>1.0</td>\n",
       "      <td>0.0</td>\n",
       "      <td>0.0</td>\n",
       "      <td>1.0</td>\n",
       "      <td>1.0</td>\n",
       "      <td>0.0</td>\n",
       "      <td>0.0</td>\n",
       "      <td>1.0</td>\n",
       "      <td>0.0</td>\n",
       "      <td>0.0</td>\n",
       "      <td>0.0</td>\n",
       "      <td>1.0</td>\n",
       "      <td>0.0</td>\n",
       "      <td>0.0</td>\n",
       "      <td>0.0</td>\n",
       "      <td>0.0</td>\n",
       "      <td>0.0</td>\n",
       "      <td>0.0</td>\n",
       "    </tr>\n",
       "    <tr>\n",
       "      <th>5</th>\n",
       "      <td>1.0</td>\n",
       "      <td>1.0</td>\n",
       "      <td>0.0</td>\n",
       "      <td>0.0</td>\n",
       "      <td>0.0</td>\n",
       "      <td>1.0</td>\n",
       "      <td>0.0</td>\n",
       "      <td>1.0</td>\n",
       "      <td>1.0</td>\n",
       "      <td>1.0</td>\n",
       "      <td>0.0</td>\n",
       "      <td>0.0</td>\n",
       "      <td>1.0</td>\n",
       "      <td>0.0</td>\n",
       "      <td>1.0</td>\n",
       "      <td>1.0</td>\n",
       "      <td>1.0</td>\n",
       "      <td>1.0</td>\n",
       "    </tr>\n",
       "    <tr>\n",
       "      <th>6</th>\n",
       "      <td>1.0</td>\n",
       "      <td>0.0</td>\n",
       "      <td>0.0</td>\n",
       "      <td>0.0</td>\n",
       "      <td>0.0</td>\n",
       "      <td>0.0</td>\n",
       "      <td>1.0</td>\n",
       "      <td>0.0</td>\n",
       "      <td>0.0</td>\n",
       "      <td>0.0</td>\n",
       "      <td>0.0</td>\n",
       "      <td>0.0</td>\n",
       "      <td>0.0</td>\n",
       "      <td>1.0</td>\n",
       "      <td>0.0</td>\n",
       "      <td>0.0</td>\n",
       "      <td>0.0</td>\n",
       "      <td>0.0</td>\n",
       "    </tr>\n",
       "    <tr>\n",
       "      <th>7</th>\n",
       "      <td>1.0</td>\n",
       "      <td>0.0</td>\n",
       "      <td>0.0</td>\n",
       "      <td>0.0</td>\n",
       "      <td>1.0</td>\n",
       "      <td>1.0</td>\n",
       "      <td>0.0</td>\n",
       "      <td>1.0</td>\n",
       "      <td>0.0</td>\n",
       "      <td>0.0</td>\n",
       "      <td>1.0</td>\n",
       "      <td>1.0</td>\n",
       "      <td>1.0</td>\n",
       "      <td>1.0</td>\n",
       "      <td>0.0</td>\n",
       "      <td>0.0</td>\n",
       "      <td>0.0</td>\n",
       "      <td>0.0</td>\n",
       "    </tr>\n",
       "    <tr>\n",
       "      <th>8</th>\n",
       "      <td>0.0</td>\n",
       "      <td>1.0</td>\n",
       "      <td>0.0</td>\n",
       "      <td>0.0</td>\n",
       "      <td>0.0</td>\n",
       "      <td>1.0</td>\n",
       "      <td>0.0</td>\n",
       "      <td>0.0</td>\n",
       "      <td>1.0</td>\n",
       "      <td>0.0</td>\n",
       "      <td>0.0</td>\n",
       "      <td>0.0</td>\n",
       "      <td>1.0</td>\n",
       "      <td>0.0</td>\n",
       "      <td>1.0</td>\n",
       "      <td>1.0</td>\n",
       "      <td>1.0</td>\n",
       "      <td>1.0</td>\n",
       "    </tr>\n",
       "    <tr>\n",
       "      <th>9</th>\n",
       "      <td>0.0</td>\n",
       "      <td>0.0</td>\n",
       "      <td>1.0</td>\n",
       "      <td>1.0</td>\n",
       "      <td>0.0</td>\n",
       "      <td>1.0</td>\n",
       "      <td>0.0</td>\n",
       "      <td>0.0</td>\n",
       "      <td>0.0</td>\n",
       "      <td>1.0</td>\n",
       "      <td>1.0</td>\n",
       "      <td>0.0</td>\n",
       "      <td>1.0</td>\n",
       "      <td>0.0</td>\n",
       "      <td>1.0</td>\n",
       "      <td>1.0</td>\n",
       "      <td>0.0</td>\n",
       "      <td>1.0</td>\n",
       "    </tr>\n",
       "    <tr>\n",
       "      <th>10</th>\n",
       "      <td>0.0</td>\n",
       "      <td>0.0</td>\n",
       "      <td>0.0</td>\n",
       "      <td>1.0</td>\n",
       "      <td>0.0</td>\n",
       "      <td>0.0</td>\n",
       "      <td>0.0</td>\n",
       "      <td>1.0</td>\n",
       "      <td>0.0</td>\n",
       "      <td>1.0</td>\n",
       "      <td>1.0</td>\n",
       "      <td>1.0</td>\n",
       "      <td>0.0</td>\n",
       "      <td>0.0</td>\n",
       "      <td>0.0</td>\n",
       "      <td>0.0</td>\n",
       "      <td>0.0</td>\n",
       "      <td>0.0</td>\n",
       "    </tr>\n",
       "    <tr>\n",
       "      <th>11</th>\n",
       "      <td>1.0</td>\n",
       "      <td>0.0</td>\n",
       "      <td>0.0</td>\n",
       "      <td>0.0</td>\n",
       "      <td>1.0</td>\n",
       "      <td>0.0</td>\n",
       "      <td>0.0</td>\n",
       "      <td>1.0</td>\n",
       "      <td>0.0</td>\n",
       "      <td>0.0</td>\n",
       "      <td>1.0</td>\n",
       "      <td>1.0</td>\n",
       "      <td>0.0</td>\n",
       "      <td>0.0</td>\n",
       "      <td>0.0</td>\n",
       "      <td>0.0</td>\n",
       "      <td>0.0</td>\n",
       "      <td>0.0</td>\n",
       "    </tr>\n",
       "    <tr>\n",
       "      <th>12</th>\n",
       "      <td>1.0</td>\n",
       "      <td>1.0</td>\n",
       "      <td>0.0</td>\n",
       "      <td>0.0</td>\n",
       "      <td>0.0</td>\n",
       "      <td>1.0</td>\n",
       "      <td>0.0</td>\n",
       "      <td>1.0</td>\n",
       "      <td>1.0</td>\n",
       "      <td>1.0</td>\n",
       "      <td>0.0</td>\n",
       "      <td>0.0</td>\n",
       "      <td>1.0</td>\n",
       "      <td>0.0</td>\n",
       "      <td>1.0</td>\n",
       "      <td>1.0</td>\n",
       "      <td>1.0</td>\n",
       "      <td>1.0</td>\n",
       "    </tr>\n",
       "    <tr>\n",
       "      <th>13</th>\n",
       "      <td>0.0</td>\n",
       "      <td>0.0</td>\n",
       "      <td>0.0</td>\n",
       "      <td>0.0</td>\n",
       "      <td>0.0</td>\n",
       "      <td>0.0</td>\n",
       "      <td>1.0</td>\n",
       "      <td>1.0</td>\n",
       "      <td>0.0</td>\n",
       "      <td>0.0</td>\n",
       "      <td>0.0</td>\n",
       "      <td>0.0</td>\n",
       "      <td>0.0</td>\n",
       "      <td>1.0</td>\n",
       "      <td>0.0</td>\n",
       "      <td>0.0</td>\n",
       "      <td>0.0</td>\n",
       "      <td>0.0</td>\n",
       "    </tr>\n",
       "    <tr>\n",
       "      <th>14</th>\n",
       "      <td>0.0</td>\n",
       "      <td>1.0</td>\n",
       "      <td>0.0</td>\n",
       "      <td>0.0</td>\n",
       "      <td>0.0</td>\n",
       "      <td>1.0</td>\n",
       "      <td>0.0</td>\n",
       "      <td>0.0</td>\n",
       "      <td>1.0</td>\n",
       "      <td>1.0</td>\n",
       "      <td>0.0</td>\n",
       "      <td>0.0</td>\n",
       "      <td>1.0</td>\n",
       "      <td>0.0</td>\n",
       "      <td>1.0</td>\n",
       "      <td>0.0</td>\n",
       "      <td>1.0</td>\n",
       "      <td>0.0</td>\n",
       "    </tr>\n",
       "    <tr>\n",
       "      <th>15</th>\n",
       "      <td>0.0</td>\n",
       "      <td>1.0</td>\n",
       "      <td>0.0</td>\n",
       "      <td>0.0</td>\n",
       "      <td>0.0</td>\n",
       "      <td>1.0</td>\n",
       "      <td>0.0</td>\n",
       "      <td>0.0</td>\n",
       "      <td>1.0</td>\n",
       "      <td>1.0</td>\n",
       "      <td>0.0</td>\n",
       "      <td>0.0</td>\n",
       "      <td>1.0</td>\n",
       "      <td>0.0</td>\n",
       "      <td>0.0</td>\n",
       "      <td>1.0</td>\n",
       "      <td>1.0</td>\n",
       "      <td>0.0</td>\n",
       "    </tr>\n",
       "    <tr>\n",
       "      <th>16</th>\n",
       "      <td>0.0</td>\n",
       "      <td>1.0</td>\n",
       "      <td>0.0</td>\n",
       "      <td>0.0</td>\n",
       "      <td>0.0</td>\n",
       "      <td>1.0</td>\n",
       "      <td>0.0</td>\n",
       "      <td>0.0</td>\n",
       "      <td>1.0</td>\n",
       "      <td>0.0</td>\n",
       "      <td>0.0</td>\n",
       "      <td>0.0</td>\n",
       "      <td>1.0</td>\n",
       "      <td>0.0</td>\n",
       "      <td>1.0</td>\n",
       "      <td>1.0</td>\n",
       "      <td>1.0</td>\n",
       "      <td>1.0</td>\n",
       "    </tr>\n",
       "    <tr>\n",
       "      <th>17</th>\n",
       "      <td>0.0</td>\n",
       "      <td>1.0</td>\n",
       "      <td>0.0</td>\n",
       "      <td>0.0</td>\n",
       "      <td>0.0</td>\n",
       "      <td>1.0</td>\n",
       "      <td>0.0</td>\n",
       "      <td>0.0</td>\n",
       "      <td>1.0</td>\n",
       "      <td>1.0</td>\n",
       "      <td>0.0</td>\n",
       "      <td>0.0</td>\n",
       "      <td>1.0</td>\n",
       "      <td>0.0</td>\n",
       "      <td>0.0</td>\n",
       "      <td>0.0</td>\n",
       "      <td>1.0</td>\n",
       "      <td>1.0</td>\n",
       "    </tr>\n",
       "  </tbody>\n",
       "</table>\n",
       "</div>"
      ],
      "text/plain": [
       "    right lung  right apical zone  right upper lung zone  right mid lung zone  \\\n",
       "0          1.0                0.0                    0.0                  1.0   \n",
       "1          0.0                1.0                    0.0                  0.0   \n",
       "2          0.0                0.0                    1.0                  1.0   \n",
       "3          1.0                0.0                    1.0                  1.0   \n",
       "4          1.0                0.0                    0.0                  1.0   \n",
       "5          1.0                1.0                    0.0                  0.0   \n",
       "6          1.0                0.0                    0.0                  0.0   \n",
       "7          1.0                0.0                    0.0                  0.0   \n",
       "8          0.0                1.0                    0.0                  0.0   \n",
       "9          0.0                0.0                    1.0                  1.0   \n",
       "10         0.0                0.0                    0.0                  1.0   \n",
       "11         1.0                0.0                    0.0                  0.0   \n",
       "12         1.0                1.0                    0.0                  0.0   \n",
       "13         0.0                0.0                    0.0                  0.0   \n",
       "14         0.0                1.0                    0.0                  0.0   \n",
       "15         0.0                1.0                    0.0                  0.0   \n",
       "16         0.0                1.0                    0.0                  0.0   \n",
       "17         0.0                1.0                    0.0                  0.0   \n",
       "\n",
       "    right lower lung zone  right hilar structures  right costophrenic angle  \\\n",
       "0                     1.0                     1.0                       1.0   \n",
       "1                     0.0                     1.0                       0.0   \n",
       "2                     0.0                     0.0                       0.0   \n",
       "3                     1.0                     0.0                       0.0   \n",
       "4                     1.0                     0.0                       0.0   \n",
       "5                     0.0                     1.0                       0.0   \n",
       "6                     0.0                     0.0                       1.0   \n",
       "7                     1.0                     1.0                       0.0   \n",
       "8                     0.0                     1.0                       0.0   \n",
       "9                     0.0                     1.0                       0.0   \n",
       "10                    0.0                     0.0                       0.0   \n",
       "11                    1.0                     0.0                       0.0   \n",
       "12                    0.0                     1.0                       0.0   \n",
       "13                    0.0                     0.0                       1.0   \n",
       "14                    0.0                     1.0                       0.0   \n",
       "15                    0.0                     1.0                       0.0   \n",
       "16                    0.0                     1.0                       0.0   \n",
       "17                    0.0                     1.0                       0.0   \n",
       "\n",
       "    left lung  left apical zone  left upper lung zone  left mid lung zone  \\\n",
       "0         1.0               0.0                   0.0                 0.0   \n",
       "1         0.0               1.0                   0.0                 0.0   \n",
       "2         0.0               0.0                   1.0                 0.0   \n",
       "3         0.0               0.0                   1.0                 1.0   \n",
       "4         1.0               0.0                   0.0                 0.0   \n",
       "5         1.0               1.0                   1.0                 0.0   \n",
       "6         0.0               0.0                   0.0                 0.0   \n",
       "7         1.0               0.0                   0.0                 1.0   \n",
       "8         0.0               1.0                   0.0                 0.0   \n",
       "9         0.0               0.0                   1.0                 1.0   \n",
       "10        1.0               0.0                   1.0                 1.0   \n",
       "11        1.0               0.0                   0.0                 1.0   \n",
       "12        1.0               1.0                   1.0                 0.0   \n",
       "13        1.0               0.0                   0.0                 0.0   \n",
       "14        0.0               1.0                   1.0                 0.0   \n",
       "15        0.0               1.0                   1.0                 0.0   \n",
       "16        0.0               1.0                   0.0                 0.0   \n",
       "17        0.0               1.0                   1.0                 0.0   \n",
       "\n",
       "    left lower lung zone  left hilar structures  left costophrenic angle  \\\n",
       "0                    1.0                    1.0                      0.0   \n",
       "1                    0.0                    1.0                      0.0   \n",
       "2                    0.0                    0.0                      0.0   \n",
       "3                    0.0                    0.0                      0.0   \n",
       "4                    1.0                    0.0                      0.0   \n",
       "5                    0.0                    1.0                      0.0   \n",
       "6                    0.0                    0.0                      1.0   \n",
       "7                    1.0                    1.0                      1.0   \n",
       "8                    0.0                    1.0                      0.0   \n",
       "9                    0.0                    1.0                      0.0   \n",
       "10                   1.0                    0.0                      0.0   \n",
       "11                   1.0                    0.0                      0.0   \n",
       "12                   0.0                    1.0                      0.0   \n",
       "13                   0.0                    0.0                      1.0   \n",
       "14                   0.0                    1.0                      0.0   \n",
       "15                   0.0                    1.0                      0.0   \n",
       "16                   0.0                    1.0                      0.0   \n",
       "17                   0.0                    1.0                      0.0   \n",
       "\n",
       "    mediastinum  upper mediastinum  cardiac silhouette  trachea  \n",
       "0           0.0                0.0                 0.0      0.0  \n",
       "1           1.0                1.0                 1.0      1.0  \n",
       "2           0.0                0.0                 0.0      0.0  \n",
       "3           0.0                0.0                 0.0      0.0  \n",
       "4           0.0                0.0                 0.0      0.0  \n",
       "5           1.0                1.0                 1.0      1.0  \n",
       "6           0.0                0.0                 0.0      0.0  \n",
       "7           0.0                0.0                 0.0      0.0  \n",
       "8           1.0                1.0                 1.0      1.0  \n",
       "9           1.0                1.0                 0.0      1.0  \n",
       "10          0.0                0.0                 0.0      0.0  \n",
       "11          0.0                0.0                 0.0      0.0  \n",
       "12          1.0                1.0                 1.0      1.0  \n",
       "13          0.0                0.0                 0.0      0.0  \n",
       "14          1.0                0.0                 1.0      0.0  \n",
       "15          0.0                1.0                 1.0      0.0  \n",
       "16          1.0                1.0                 1.0      1.0  \n",
       "17          0.0                0.0                 1.0      1.0  "
      ]
     },
     "execution_count": 18,
     "metadata": {},
     "output_type": "execute_result"
    }
   ],
   "source": [
    "test_anatomy"
   ]
  },
  {
   "cell_type": "code",
   "execution_count": null,
   "metadata": {},
   "outputs": [],
   "source": []
  }
 ],
 "metadata": {
  "kernelspec": {
   "display_name": "pytorch2",
   "language": "python",
   "name": "python3"
  },
  "language_info": {
   "codemirror_mode": {
    "name": "ipython",
    "version": 3
   },
   "file_extension": ".py",
   "mimetype": "text/x-python",
   "name": "python",
   "nbconvert_exporter": "python",
   "pygments_lexer": "ipython3",
   "version": "3.10.12"
  }
 },
 "nbformat": 4,
 "nbformat_minor": 2
}
