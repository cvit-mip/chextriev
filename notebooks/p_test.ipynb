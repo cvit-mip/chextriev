{
 "cells": [
  {
   "cell_type": "code",
   "execution_count": 1,
   "metadata": {},
   "outputs": [],
   "source": [
    "import warnings\n",
    "warnings.filterwarnings(\"ignore\")\n",
    "\n",
    "import os\n",
    "from tqdm import tqdm\n",
    "import numpy as np\n",
    "import pandas as pd\n",
    "from glob import glob\n",
    "from PIL import Image\n",
    "import torch\n",
    "from torch_geometric.loader import DataLoader\n",
    "from tqdm import tqdm\n",
    "import torch\n",
    "import faiss\n",
    "from prettytable import PrettyTable\n",
    "import matplotlib.pyplot as plt\n",
    "from scipy.stats import ttest_rel\n",
    "\n",
    "import os\n",
    "import sys\n",
    "import inspect\n",
    "\n",
    "sys.path.insert(1, os.path.abspath( os.path.dirname('../')) )\n",
    "\n",
    "from dataloader.anaxnet import CustomDataset\n",
    "from model.anaxnet_attn_multilayer import CustomModel\n",
    "from common_metrics import compute_metrics"
   ]
  },
  {
   "cell_type": "code",
   "execution_count": 2,
   "metadata": {},
   "outputs": [],
   "source": [
    "nine_class_labels = [\n",
    "    'lung opacity', \n",
    "    'pleural effusion', \n",
    "    'atelectasis', \n",
    "    'enlarged cardiac silhouette',\n",
    "    'pulmonary edema/hazy opacity', \n",
    "    'pneumothorax', \n",
    "    'consolidation', \n",
    "    'fluid overload/heart failure', \n",
    "    'pneumonia']\n",
    "\n",
    "anatomy_names = [\n",
    "    'right lung',\n",
    "    'right apical zone',\n",
    "    'right upper lung zone',\n",
    "    'right mid lung zone',\n",
    "    'right lower lung zone',\n",
    "    'right hilar structures',\n",
    "    'right costophrenic angle',\n",
    "    'left lung',\n",
    "    'left apical zone',\n",
    "    'left upper lung zone',\n",
    "    'left mid lung zone',\n",
    "    'left lower lung zone',\n",
    "    'left hilar structures',\n",
    "    'left costophrenic angle',\n",
    "    'mediastinum',\n",
    "    'upper mediastinum',\n",
    "    'cardiac silhouette',\n",
    "    'trachea']"
   ]
  },
  {
   "cell_type": "markdown",
   "metadata": {},
   "source": [
    "# Top-5"
   ]
  },
  {
   "cell_type": "code",
   "execution_count": 3,
   "metadata": {},
   "outputs": [],
   "source": [
    "df_gt = pd.read_csv('../results/graph_transformer/best_config_abs_pos_with_edges/occluded/orig/9_classes_auc_no_global_feat_top_5_cosine_.txt')\n",
    "df_anax = pd.read_csv('../results/anaxnet/anaxnet/occluded/orig/9_classes_auc_no_global_feat_top_5_cosine_.txt')\n",
    "df_ath = pd.read_csv('../results/ath/ath/orig/9_classes_auc_no_global_feat_top_5_cosine.txt')\n",
    "df_res = pd.read_csv('../results/resnet50/resnet50_fc_new/orig/9_classes_auc_no_global_feat_top_5_cosine.txt')"
   ]
  },
  {
   "cell_type": "code",
   "execution_count": 46,
   "metadata": {},
   "outputs": [
    {
     "name": "stdout",
     "output_type": "stream",
     "text": [
      "+--------------------------------------------+\n",
      "|                Query Count                 |\n",
      "+------------------------------+-------------+\n",
      "|           Disease            | Query Count |\n",
      "+------------------------------+-------------+\n",
      "|         lung opacity         |     2679    |\n",
      "|       pleural effusion       |     1340    |\n",
      "|         atelectasis          |     1241    |\n",
      "| enlarged cardiac silhouette  |     1212    |\n",
      "| pulmonary edema/hazy opacity |     819     |\n",
      "|         pneumothorax         |      96     |\n",
      "|        consolidation         |     334     |\n",
      "| fluid overload/heart failure |     169     |\n",
      "|          pneumonia           |     643     |\n",
      "+------------------------------+-------------+\n"
     ]
    }
   ],
   "source": [
    "t = PrettyTable()\n",
    "t.field_names = [\"Disease\", \"Query Count\"]\n",
    "t.title = \"Query Count\"\n",
    "weights = []\n",
    "\n",
    "for class_name in nine_class_labels:\n",
    "    t.add_row([class_name, len(df_gt[df_gt['label_name'] == class_name])])\n",
    "    weights.append(len(df_gt[df_gt['label_name'] == class_name]))\n",
    "\n",
    "print(t)"
   ]
  },
  {
   "cell_type": "markdown",
   "metadata": {},
   "source": [
    "## P-Value"
   ]
  },
  {
   "cell_type": "code",
   "execution_count": 5,
   "metadata": {},
   "outputs": [
    {
     "name": "stdout",
     "output_type": "stream",
     "text": [
      "+------------------------------------------------------+\n",
      "|                     GT & AnaxNet                     |\n",
      "+------------------------------+-------+-------+-------+\n",
      "|           Disease            |   AP  |   HR  |   RR  |\n",
      "+------------------------------+-------+-------+-------+\n",
      "|         lung opacity         |  0.0  |  0.0  | 0.004 |\n",
      "|       pleural effusion       |  0.0  |  0.0  |  0.0  |\n",
      "|         atelectasis          |  0.0  |  0.0  | 0.003 |\n",
      "| enlarged cardiac silhouette  |  0.0  |  0.0  |  0.0  |\n",
      "| pulmonary edema/hazy opacity |  0.0  |  0.0  |  0.0  |\n",
      "|         pneumothorax         | 0.919 | 0.665 | 0.896 |\n",
      "|        consolidation         | 0.329 | 0.168 | 0.304 |\n",
      "| fluid overload/heart failure | 0.001 |  0.0  | 0.001 |\n",
      "|          pneumonia           | 0.013 | 0.008 | 0.005 |\n",
      "+------------------------------+-------+-------+-------+\n"
     ]
    }
   ],
   "source": [
    "t = PrettyTable()\n",
    "t.field_names = ['Disease', 'AP', 'HR', 'RR']\n",
    "t.title = 'GT & AnaxNet'\n",
    "\n",
    "for class_label in nine_class_labels:\n",
    "\n",
    "    entry = [class_label]\n",
    "    for metric in ['AP', 'HR', 'RR']:\n",
    "        gt_mt = df_gt[(df_gt['label_name'] == class_label)][metric].to_numpy()\n",
    "        anax_mt = df_anax[(df_anax['label_name'] == class_label)][metric].to_numpy()\n",
    "        ttest_gt_anax = ttest_rel(gt_mt, anax_mt)\n",
    "\n",
    "        entry.append(np.round(ttest_gt_anax.pvalue, 3))\n",
    "    \n",
    "    t.add_row(entry)\n",
    "\n",
    "print(t)"
   ]
  },
  {
   "cell_type": "code",
   "execution_count": 6,
   "metadata": {},
   "outputs": [
    {
     "name": "stdout",
     "output_type": "stream",
     "text": [
      "+------------------------------------------------------+\n",
      "|                       GT & ATH                       |\n",
      "+------------------------------+-------+-------+-------+\n",
      "|           Disease            |   AP  |   HR  |   RR  |\n",
      "+------------------------------+-------+-------+-------+\n",
      "|         lung opacity         |  0.0  |  0.0  |  0.0  |\n",
      "|       pleural effusion       |  0.0  |  0.0  |  0.0  |\n",
      "|         atelectasis          |  0.0  |  0.0  |  0.0  |\n",
      "| enlarged cardiac silhouette  |  0.0  |  0.0  |  0.0  |\n",
      "| pulmonary edema/hazy opacity |  0.0  |  0.0  |  0.0  |\n",
      "|         pneumothorax         |  0.0  |  0.0  |  0.0  |\n",
      "|        consolidation         | 0.011 | 0.014 | 0.007 |\n",
      "| fluid overload/heart failure |  0.0  |  0.0  |  0.0  |\n",
      "|          pneumonia           |  0.0  |  0.0  |  0.0  |\n",
      "+------------------------------+-------+-------+-------+\n"
     ]
    }
   ],
   "source": [
    "t = PrettyTable()\n",
    "t.field_names = ['Disease', 'AP', 'HR', 'RR']\n",
    "t.title = 'GT & ATH'\n",
    "\n",
    "for class_label in nine_class_labels:\n",
    "\n",
    "    entry = [class_label]\n",
    "    for metric in ['AP', 'HR', 'RR']:\n",
    "        gt_mt = df_gt[(df_gt['label_name'] == class_label)][metric].to_numpy()\n",
    "        ath_mt = df_ath[(df_ath['label_name'] == class_label)][metric].to_numpy()\n",
    "        ttest_gt_ath = ttest_rel(gt_mt, ath_mt)\n",
    "\n",
    "        entry.append(np.round(ttest_gt_ath.pvalue, 3))\n",
    "    \n",
    "    t.add_row(entry)\n",
    "\n",
    "print(t)"
   ]
  },
  {
   "cell_type": "code",
   "execution_count": 7,
   "metadata": {},
   "outputs": [
    {
     "name": "stdout",
     "output_type": "stream",
     "text": [
      "+------------------------------------------------------+\n",
      "|                    GT & ResNet50                     |\n",
      "+------------------------------+-------+-------+-------+\n",
      "|           Disease            |   AP  |   HR  |   RR  |\n",
      "+------------------------------+-------+-------+-------+\n",
      "|         lung opacity         |  0.0  |  0.0  | 0.038 |\n",
      "|       pleural effusion       | 0.009 |  0.0  | 0.082 |\n",
      "|         atelectasis          | 0.001 |  0.0  | 0.005 |\n",
      "| enlarged cardiac silhouette  |  0.0  |  0.0  |  0.0  |\n",
      "| pulmonary edema/hazy opacity |  0.0  |  0.0  |  0.0  |\n",
      "|         pneumothorax         | 0.025 | 0.001 | 0.021 |\n",
      "|        consolidation         | 0.032 |  0.22 | 0.039 |\n",
      "| fluid overload/heart failure |  0.0  | 0.001 |  0.0  |\n",
      "|          pneumonia           |  0.0  |  0.0  |  0.0  |\n",
      "+------------------------------+-------+-------+-------+\n"
     ]
    }
   ],
   "source": [
    "t = PrettyTable()\n",
    "t.field_names = ['Disease', 'AP', 'HR', 'RR']\n",
    "t.title = 'GT & ResNet50'\n",
    "\n",
    "for class_label in nine_class_labels:\n",
    "\n",
    "    entry = [class_label]\n",
    "    for metric in ['AP', 'HR', 'RR']:\n",
    "        gt_mt = df_gt[(df_gt['label_name'] == class_label)][metric].to_numpy()\n",
    "        res_mt = df_res[(df_res['label_name'] == class_label)][metric].to_numpy()\n",
    "        ttest_gt_res = ttest_rel(gt_mt, res_mt)\n",
    "\n",
    "        entry.append(np.round(ttest_gt_res.pvalue, 3))\n",
    "    \n",
    "    t.add_row(entry)\n",
    "\n",
    "print(t)"
   ]
  },
  {
   "cell_type": "markdown",
   "metadata": {},
   "source": [
    "# Top-3"
   ]
  },
  {
   "cell_type": "code",
   "execution_count": 11,
   "metadata": {},
   "outputs": [],
   "source": [
    "df_gt_3 = pd.read_csv('../results/graph_transformer/best_config_abs_pos_with_edges/occluded/orig/9_classes_auc_no_global_feat_top_3_cosine_.txt')\n",
    "df_anax_3 = pd.read_csv('../results/anaxnet/anaxnet/occluded/orig/9_classes_auc_no_global_feat_top_3_cosine_.txt')\n",
    "df_ath_3 = pd.read_csv('../results/ath/ath/orig/9_classes_auc_no_global_feat_top_3_cosine.txt')\n",
    "df_res_3 = pd.read_csv('../results/resnet50/resnet50_fc_new/orig/9_classes_auc_no_global_feat_top_3_cosine.txt')"
   ]
  },
  {
   "cell_type": "code",
   "execution_count": 47,
   "metadata": {},
   "outputs": [
    {
     "name": "stdout",
     "output_type": "stream",
     "text": [
      "+------------------------------------------------------+\n",
      "|                          GT                          |\n",
      "+------------------------------+-------+-------+-------+\n",
      "|           Disease            |  mAP  |  mHR  |  mRR  |\n",
      "+------------------------------+-------+-------+-------+\n",
      "|         lung opacity         | 0.925 | 0.882 |  0.93 |\n",
      "|       pleural effusion       | 0.721 | 0.594 |  0.73 |\n",
      "|         atelectasis          | 0.649 | 0.485 | 0.658 |\n",
      "| enlarged cardiac silhouette  | 0.705 | 0.554 | 0.717 |\n",
      "| pulmonary edema/hazy opacity |  0.64 | 0.491 | 0.652 |\n",
      "|         pneumothorax         | 0.297 | 0.149 | 0.297 |\n",
      "|        consolidation         | 0.272 | 0.159 | 0.277 |\n",
      "| fluid overload/heart failure | 0.263 | 0.136 | 0.264 |\n",
      "|          pneumonia           | 0.448 | 0.282 | 0.454 |\n",
      "|           Average            | 0.547 | 0.415 | 0.553 |\n",
      "|       Weighted Average       | 0.713 | 0.598 |  0.72 |\n",
      "+------------------------------+-------+-------+-------+\n"
     ]
    }
   ],
   "source": [
    "t = PrettyTable()\n",
    "t.field_names = ['Disease', 'mAP', 'mHR', 'mRR']\n",
    "t.title = 'GT'\n",
    "\n",
    "ap, hr, rr = [], [], []\n",
    "for class_label in nine_class_labels:\n",
    "    mAP = np.mean(df_gt_3[(df_gt_3['label_name'] == class_label)]['AP'].to_numpy())\n",
    "    mHR = np.mean(df_gt_3[(df_gt_3['label_name'] == class_label)]['HR'].to_numpy())\n",
    "    mRR = np.mean(df_gt_3[(df_gt_3['label_name'] == class_label)]['RR'].to_numpy())\n",
    "    t.add_row([class_label, np.round(mAP, 3), np.round(mHR, 3), np.round(mRR, 3)])\n",
    "    ap.append(mAP)\n",
    "    hr.append(mHR)\n",
    "    rr.append(mRR)\n",
    "\n",
    "t.add_row(['Average', np.round(np.mean(ap), 3), np.round(np.mean(hr), 3), np.round(np.mean(rr), 3)])\n",
    "t.add_row(['Weighted Average', np.round(np.average(ap, weights=weights), 3), np.round(np.average(hr, weights=weights), 3), np.round(np.average(rr, weights=weights), 3)])\n",
    "\n",
    "print(t)"
   ]
  },
  {
   "cell_type": "code",
   "execution_count": 49,
   "metadata": {},
   "outputs": [
    {
     "name": "stdout",
     "output_type": "stream",
     "text": [
      "+------------------------------------------------------+\n",
      "|                       AnaxNet                        |\n",
      "+------------------------------+-------+-------+-------+\n",
      "|           Disease            |  mAP  |  mHR  |  mRR  |\n",
      "+------------------------------+-------+-------+-------+\n",
      "|         lung opacity         | 0.907 |  0.84 | 0.917 |\n",
      "|       pleural effusion       | 0.648 | 0.486 | 0.657 |\n",
      "|         atelectasis          | 0.597 | 0.425 | 0.611 |\n",
      "| enlarged cardiac silhouette  | 0.645 | 0.483 | 0.652 |\n",
      "| pulmonary edema/hazy opacity | 0.537 | 0.363 | 0.545 |\n",
      "|         pneumothorax         |  0.32 | 0.163 | 0.321 |\n",
      "|        consolidation         | 0.256 |  0.15 | 0.258 |\n",
      "| fluid overload/heart failure |  0.15 | 0.077 | 0.151 |\n",
      "|          pneumonia           | 0.394 | 0.262 | 0.397 |\n",
      "|           Average            | 0.495 | 0.361 | 0.501 |\n",
      "|       Weighted Average       | 0.663 | 0.534 | 0.671 |\n",
      "+------------------------------+-------+-------+-------+\n"
     ]
    }
   ],
   "source": [
    "t = PrettyTable()\n",
    "t.field_names = ['Disease', 'mAP', 'mHR', 'mRR']\n",
    "t.title = 'AnaxNet'\n",
    "\n",
    "ap, hr, rr = [], [], []\n",
    "for class_label in nine_class_labels:\n",
    "    mAP = np.mean(df_anax_3[(df_anax_3['label_name'] == class_label)]['AP'].to_numpy())\n",
    "    mHR = np.mean(df_anax_3[(df_anax_3['label_name'] == class_label)]['HR'].to_numpy())\n",
    "    mRR = np.mean(df_anax_3[(df_anax_3['label_name'] == class_label)]['RR'].to_numpy())\n",
    "    t.add_row([class_label, np.round(mAP, 3), np.round(mHR, 3), np.round(mRR, 3)])\n",
    "    ap.append(mAP)\n",
    "    hr.append(mHR)\n",
    "    rr.append(mRR)\n",
    "\n",
    "t.add_row(['Average', np.round(np.mean(ap), 3), np.round(np.mean(hr), 3), np.round(np.mean(rr), 3)])\n",
    "t.add_row(['Weighted Average', np.round(np.average(ap, weights=weights), 3), np.round(np.average(hr, weights=weights), 3), np.round(np.average(rr, weights=weights), 3)])\n",
    "\n",
    "print(t)"
   ]
  },
  {
   "cell_type": "code",
   "execution_count": 50,
   "metadata": {},
   "outputs": [
    {
     "name": "stdout",
     "output_type": "stream",
     "text": [
      "+------------------------------------------------------+\n",
      "|                         ATH                          |\n",
      "+------------------------------+-------+-------+-------+\n",
      "|           Disease            |  mAP  |  mHR  |  mRR  |\n",
      "+------------------------------+-------+-------+-------+\n",
      "|         lung opacity         | 0.897 | 0.825 | 0.906 |\n",
      "|       pleural effusion       | 0.626 | 0.476 | 0.639 |\n",
      "|         atelectasis          | 0.539 | 0.368 | 0.545 |\n",
      "| enlarged cardiac silhouette  | 0.616 | 0.459 | 0.625 |\n",
      "| pulmonary edema/hazy opacity |  0.51 |  0.36 | 0.517 |\n",
      "|         pneumothorax         | 0.076 | 0.042 | 0.078 |\n",
      "|        consolidation         | 0.209 |  0.13 | 0.211 |\n",
      "| fluid overload/heart failure | 0.136 | 0.073 | 0.137 |\n",
      "|          pneumonia           | 0.343 | 0.214 | 0.346 |\n",
      "|           Average            | 0.439 | 0.327 | 0.445 |\n",
      "|       Weighted Average       | 0.632 |  0.51 |  0.64 |\n",
      "+------------------------------+-------+-------+-------+\n"
     ]
    }
   ],
   "source": [
    "t = PrettyTable()\n",
    "t.field_names = ['Disease', 'mAP', 'mHR', 'mRR']\n",
    "t.title = 'ATH'\n",
    "\n",
    "ap, hr, rr = [], [], []\n",
    "for class_label in nine_class_labels:\n",
    "    mAP = np.mean(df_ath_3[(df_ath_3['label_name'] == class_label)]['AP'].to_numpy())\n",
    "    mHR = np.mean(df_ath_3[(df_ath_3['label_name'] == class_label)]['HR'].to_numpy())\n",
    "    mRR = np.mean(df_ath_3[(df_ath_3['label_name'] == class_label)]['RR'].to_numpy())\n",
    "    t.add_row([class_label, np.round(mAP, 3), np.round(mHR, 3), np.round(mRR, 3)])\n",
    "    ap.append(mAP)\n",
    "    hr.append(mHR)\n",
    "    rr.append(mRR)\n",
    "\n",
    "t.add_row(['Average', np.round(np.mean(ap), 3), np.round(np.mean(hr), 3), np.round(np.mean(rr), 3)])\n",
    "t.add_row(['Weighted Average', np.round(np.average(ap, weights=weights), 3), np.round(np.average(hr, weights=weights), 3), np.round(np.average(rr, weights=weights), 3)])\n",
    "\n",
    "print(t)"
   ]
  },
  {
   "cell_type": "code",
   "execution_count": 51,
   "metadata": {},
   "outputs": [
    {
     "name": "stdout",
     "output_type": "stream",
     "text": [
      "+------------------------------------------------------+\n",
      "|                       ResNet50                       |\n",
      "+------------------------------+-------+-------+-------+\n",
      "|           Disease            |  mAP  |  mHR  |  mRR  |\n",
      "+------------------------------+-------+-------+-------+\n",
      "|         lung opacity         | 0.914 | 0.858 | 0.919 |\n",
      "|       pleural effusion       |  0.7  | 0.562 | 0.712 |\n",
      "|         atelectasis          | 0.608 | 0.452 | 0.619 |\n",
      "| enlarged cardiac silhouette  | 0.645 | 0.493 | 0.656 |\n",
      "| pulmonary edema/hazy opacity | 0.553 | 0.407 | 0.561 |\n",
      "|         pneumothorax         | 0.207 | 0.115 |  0.21 |\n",
      "|        consolidation         | 0.216 | 0.129 | 0.218 |\n",
      "| fluid overload/heart failure | 0.112 | 0.065 | 0.113 |\n",
      "|          pneumonia           | 0.371 | 0.228 | 0.375 |\n",
      "|           Average            | 0.481 | 0.368 | 0.487 |\n",
      "|       Weighted Average       | 0.671 | 0.557 | 0.679 |\n",
      "+------------------------------+-------+-------+-------+\n"
     ]
    }
   ],
   "source": [
    "t = PrettyTable()\n",
    "t.field_names = ['Disease', 'mAP', 'mHR', 'mRR']\n",
    "t.title = 'ResNet50'\n",
    "\n",
    "ap, hr, rr = [], [], []\n",
    "for class_label in nine_class_labels:\n",
    "    mAP = np.mean(df_res_3[(df_res_3['label_name'] == class_label)]['AP'].to_numpy())\n",
    "    mHR = np.mean(df_res_3[(df_res_3['label_name'] == class_label)]['HR'].to_numpy())\n",
    "    mRR = np.mean(df_res_3[(df_res_3['label_name'] == class_label)]['RR'].to_numpy())\n",
    "    t.add_row([class_label, np.round(mAP, 3), np.round(mHR, 3), np.round(mRR, 3)])\n",
    "    ap.append(mAP)\n",
    "    hr.append(mHR)\n",
    "    rr.append(mRR)\n",
    "\n",
    "t.add_row(['Average', np.round(np.mean(ap), 3), np.round(np.mean(hr), 3), np.round(np.mean(rr), 3)])\n",
    "t.add_row(['Weighted Average', np.round(np.average(ap, weights=weights), 3), np.round(np.average(hr, weights=weights), 3), np.round(np.average(rr, weights=weights), 3)])\n",
    "\n",
    "print(t)"
   ]
  },
  {
   "cell_type": "markdown",
   "metadata": {},
   "source": [
    "## P-Value"
   ]
  },
  {
   "cell_type": "code",
   "execution_count": 12,
   "metadata": {},
   "outputs": [
    {
     "name": "stdout",
     "output_type": "stream",
     "text": [
      "+------------------------------------------------------+\n",
      "|                     GT & AnaxNet                     |\n",
      "+------------------------------+-------+-------+-------+\n",
      "|           Disease            |   AP  |   HR  |   RR  |\n",
      "+------------------------------+-------+-------+-------+\n",
      "|         lung opacity         |  0.0  |  0.0  | 0.006 |\n",
      "|       pleural effusion       |  0.0  |  0.0  |  0.0  |\n",
      "|         atelectasis          |  0.0  |  0.0  | 0.001 |\n",
      "| enlarged cardiac silhouette  |  0.0  |  0.0  |  0.0  |\n",
      "| pulmonary edema/hazy opacity |  0.0  |  0.0  |  0.0  |\n",
      "|         pneumothorax         |  0.61 | 0.602 | 0.599 |\n",
      "|        consolidation         | 0.535 | 0.563 |  0.48 |\n",
      "| fluid overload/heart failure | 0.002 | 0.002 | 0.002 |\n",
      "|          pneumonia           | 0.008 | 0.132 | 0.007 |\n",
      "+------------------------------+-------+-------+-------+\n"
     ]
    }
   ],
   "source": [
    "t = PrettyTable()\n",
    "t.field_names = ['Disease', 'AP', 'HR', 'RR']\n",
    "t.title = 'GT & AnaxNet'\n",
    "\n",
    "for class_label in nine_class_labels:\n",
    "\n",
    "    entry = [class_label]\n",
    "    for metric in ['AP', 'HR', 'RR']:\n",
    "        gt_mt_3 = df_gt_3[(df_gt_3['label_name'] == class_label)][metric].to_numpy()\n",
    "        anax_mt_3 = df_anax_3[(df_anax_3['label_name'] == class_label)][metric].to_numpy()\n",
    "        ttest_gt_anax_3 = ttest_rel(gt_mt_3, anax_mt_3)\n",
    "\n",
    "        entry.append(np.round(ttest_gt_anax_3.pvalue, 3))\n",
    "    \n",
    "    t.add_row(entry)\n",
    "\n",
    "print(t)"
   ]
  },
  {
   "cell_type": "code",
   "execution_count": 13,
   "metadata": {},
   "outputs": [
    {
     "name": "stdout",
     "output_type": "stream",
     "text": [
      "+------------------------------------------------------+\n",
      "|                       GT & ATH                       |\n",
      "+------------------------------+-------+-------+-------+\n",
      "|           Disease            |   AP  |   HR  |   RR  |\n",
      "+------------------------------+-------+-------+-------+\n",
      "|         lung opacity         |  0.0  |  0.0  |  0.0  |\n",
      "|       pleural effusion       |  0.0  |  0.0  |  0.0  |\n",
      "|         atelectasis          |  0.0  |  0.0  |  0.0  |\n",
      "| enlarged cardiac silhouette  |  0.0  |  0.0  |  0.0  |\n",
      "| pulmonary edema/hazy opacity |  0.0  |  0.0  |  0.0  |\n",
      "|         pneumothorax         |  0.0  |  0.0  |  0.0  |\n",
      "|        consolidation         | 0.018 | 0.058 | 0.014 |\n",
      "| fluid overload/heart failure |  0.0  |  0.0  |  0.0  |\n",
      "|          pneumonia           |  0.0  |  0.0  |  0.0  |\n",
      "+------------------------------+-------+-------+-------+\n"
     ]
    }
   ],
   "source": [
    "t = PrettyTable()\n",
    "t.field_names = ['Disease', 'AP', 'HR', 'RR']\n",
    "t.title = 'GT & ATH'\n",
    "\n",
    "for class_label in nine_class_labels:\n",
    "\n",
    "    entry = [class_label]\n",
    "    for metric in ['AP', 'HR', 'RR']:\n",
    "        gt_mt_3 = df_gt_3[(df_gt['label_name'] == class_label)][metric].to_numpy()\n",
    "        ath_mt_3 = df_ath_3[(df_ath_3['label_name'] == class_label)][metric].to_numpy()\n",
    "        ttest_gt_ath_3 = ttest_rel(gt_mt_3, ath_mt_3)\n",
    "\n",
    "        entry.append(np.round(ttest_gt_ath_3.pvalue, 3))\n",
    "    \n",
    "    t.add_row(entry)\n",
    "\n",
    "print(t)"
   ]
  },
  {
   "cell_type": "code",
   "execution_count": 14,
   "metadata": {},
   "outputs": [
    {
     "name": "stdout",
     "output_type": "stream",
     "text": [
      "+------------------------------------------------------+\n",
      "|                    GT & ResNet50                     |\n",
      "+------------------------------+-------+-------+-------+\n",
      "|           Disease            |   AP  |   HR  |   RR  |\n",
      "+------------------------------+-------+-------+-------+\n",
      "|         lung opacity         | 0.013 |  0.0  | 0.029 |\n",
      "|       pleural effusion       | 0.073 | 0.003 | 0.147 |\n",
      "|         atelectasis          | 0.004 | 0.004 | 0.008 |\n",
      "| enlarged cardiac silhouette  |  0.0  |  0.0  |  0.0  |\n",
      "| pulmonary edema/hazy opacity |  0.0  |  0.0  |  0.0  |\n",
      "|         pneumothorax         | 0.083 | 0.206 | 0.096 |\n",
      "|        consolidation         | 0.039 | 0.059 | 0.033 |\n",
      "| fluid overload/heart failure |  0.0  |  0.0  |  0.0  |\n",
      "|          pneumonia           |  0.0  |  0.0  |  0.0  |\n",
      "+------------------------------+-------+-------+-------+\n"
     ]
    }
   ],
   "source": [
    "t = PrettyTable()\n",
    "t.field_names = ['Disease', 'AP', 'HR', 'RR']\n",
    "t.title = 'GT & ResNet50'\n",
    "\n",
    "for class_label in nine_class_labels:\n",
    "\n",
    "    entry = [class_label]\n",
    "    for metric in ['AP', 'HR', 'RR']:\n",
    "        gt_mt_3 = df_gt_3[(df_gt_3['label_name'] == class_label)][metric].to_numpy()\n",
    "        res_mt_3 = df_res_3[(df_res_3['label_name'] == class_label)][metric].to_numpy()\n",
    "        ttest_gt_res_3 = ttest_rel(gt_mt_3, res_mt_3)\n",
    "\n",
    "        entry.append(np.round(ttest_gt_res_3.pvalue, 3))\n",
    "    \n",
    "    t.add_row(entry)\n",
    "\n",
    "print(t)"
   ]
  },
  {
   "cell_type": "markdown",
   "metadata": {},
   "source": [
    "# Top-10"
   ]
  },
  {
   "cell_type": "code",
   "execution_count": 9,
   "metadata": {},
   "outputs": [],
   "source": [
    "df_gt_10 = pd.read_csv('../results/graph_transformer/best_config_abs_pos_with_edges/occluded/orig/9_classes_auc_no_global_feat_top_10_cosine_.txt')\n",
    "df_anax_10 = pd.read_csv('../results/anaxnet/anaxnet/occluded/orig/9_classes_auc_no_global_feat_top_10_cosine_.txt')\n",
    "df_ath_10 = pd.read_csv('../results/ath/ath/orig/9_classes_auc_no_global_feat_top_10_cosine.txt')\n",
    "df_res_10 = pd.read_csv('../results/resnet50/resnet50_fc_new/orig/9_classes_auc_no_global_feat_top_10_cosine.txt')"
   ]
  },
  {
   "cell_type": "code",
   "execution_count": 52,
   "metadata": {},
   "outputs": [
    {
     "name": "stdout",
     "output_type": "stream",
     "text": [
      "+------------------------------------------------------+\n",
      "|                          GT                          |\n",
      "+------------------------------+-------+-------+-------+\n",
      "|           Disease            |  mAP  |  mHR  |  mRR  |\n",
      "+------------------------------+-------+-------+-------+\n",
      "|         lung opacity         | 0.905 | 0.877 | 0.932 |\n",
      "|       pleural effusion       | 0.676 | 0.575 | 0.751 |\n",
      "|         atelectasis          | 0.597 | 0.476 | 0.686 |\n",
      "| enlarged cardiac silhouette  | 0.646 | 0.531 | 0.741 |\n",
      "| pulmonary edema/hazy opacity | 0.592 | 0.463 |  0.68 |\n",
      "|         pneumothorax         | 0.314 | 0.115 | 0.354 |\n",
      "|        consolidation         | 0.307 | 0.141 | 0.338 |\n",
      "| fluid overload/heart failure | 0.298 | 0.107 | 0.321 |\n",
      "|          pneumonia           | 0.428 | 0.255 | 0.507 |\n",
      "|           Average            | 0.529 | 0.393 |  0.59 |\n",
      "|       Weighted Average       | 0.679 | 0.583 | 0.743 |\n",
      "+------------------------------+-------+-------+-------+\n"
     ]
    }
   ],
   "source": [
    "t = PrettyTable()\n",
    "t.field_names = ['Disease', 'mAP', 'mHR', 'mRR']\n",
    "t.title = 'GT'\n",
    "\n",
    "ap, hr, rr = [], [], []\n",
    "for class_label in nine_class_labels:\n",
    "    mAP = np.mean(df_gt_10[(df_gt_10['label_name'] == class_label)]['AP'].to_numpy())\n",
    "    mHR = np.mean(df_gt_10[(df_gt_10['label_name'] == class_label)]['HR'].to_numpy())\n",
    "    mRR = np.mean(df_gt_10[(df_gt_10['label_name'] == class_label)]['RR'].to_numpy())\n",
    "    t.add_row([class_label, np.round(mAP, 3), np.round(mHR, 3), np.round(mRR, 3)])\n",
    "    ap.append(mAP)\n",
    "    hr.append(mHR)\n",
    "    rr.append(mRR)\n",
    "\n",
    "t.add_row(['Average', np.round(np.mean(ap), 3), np.round(np.mean(hr), 3), np.round(np.mean(rr), 3)])\n",
    "t.add_row(['Weighted Average', np.round(np.average(ap, weights=weights), 3), np.round(np.average(hr, weights=weights), 3), np.round(np.average(rr, weights=weights), 3)])\n",
    "\n",
    "print(t)"
   ]
  },
  {
   "cell_type": "code",
   "execution_count": 53,
   "metadata": {},
   "outputs": [
    {
     "name": "stdout",
     "output_type": "stream",
     "text": [
      "+------------------------------------------------------+\n",
      "|                       AnaxNet                        |\n",
      "+------------------------------+-------+-------+-------+\n",
      "|           Disease            |  mAP  |  mHR  |  mRR  |\n",
      "+------------------------------+-------+-------+-------+\n",
      "|         lung opacity         | 0.873 | 0.835 | 0.919 |\n",
      "|       pleural effusion       | 0.593 | 0.464 | 0.689 |\n",
      "|         atelectasis          | 0.551 | 0.414 |  0.65 |\n",
      "| enlarged cardiac silhouette  | 0.595 | 0.461 | 0.683 |\n",
      "| pulmonary edema/hazy opacity | 0.502 |  0.34 | 0.591 |\n",
      "|         pneumothorax         | 0.321 | 0.095 | 0.353 |\n",
      "|        consolidation         | 0.272 | 0.113 | 0.307 |\n",
      "| fluid overload/heart failure | 0.189 | 0.063 | 0.203 |\n",
      "|          pneumonia           | 0.395 | 0.224 | 0.455 |\n",
      "|           Average            | 0.477 | 0.334 | 0.539 |\n",
      "|       Weighted Average       | 0.628 | 0.517 | 0.699 |\n",
      "+------------------------------+-------+-------+-------+\n"
     ]
    }
   ],
   "source": [
    "t = PrettyTable()\n",
    "t.field_names = ['Disease', 'mAP', 'mHR', 'mRR']\n",
    "t.title = 'AnaxNet'\n",
    "\n",
    "ap, hr, rr = [], [], []\n",
    "for class_label in nine_class_labels:\n",
    "    mAP = np.mean(df_anax_10[(df_anax_10['label_name'] == class_label)]['AP'].to_numpy())\n",
    "    mHR = np.mean(df_anax_10[(df_anax_10['label_name'] == class_label)]['HR'].to_numpy())\n",
    "    mRR = np.mean(df_anax_10[(df_anax_10['label_name'] == class_label)]['RR'].to_numpy())\n",
    "    t.add_row([class_label, np.round(mAP, 3), np.round(mHR, 3), np.round(mRR, 3)])\n",
    "    ap.append(mAP)\n",
    "    hr.append(mHR)\n",
    "    rr.append(mRR)\n",
    "\n",
    "t.add_row(['Average', np.round(np.mean(ap), 3), np.round(np.mean(hr), 3), np.round(np.mean(rr), 3)])\n",
    "t.add_row(['Weighted Average', np.round(np.average(ap, weights=weights), 3), np.round(np.average(hr, weights=weights), 3), np.round(np.average(rr, weights=weights), 3)])\n",
    "\n",
    "print(t)"
   ]
  },
  {
   "cell_type": "code",
   "execution_count": 54,
   "metadata": {},
   "outputs": [
    {
     "name": "stdout",
     "output_type": "stream",
     "text": [
      "+------------------------------------------------------+\n",
      "|                         ATH                          |\n",
      "+------------------------------+-------+-------+-------+\n",
      "|           Disease            |  mAP  |  mHR  |  mRR  |\n",
      "+------------------------------+-------+-------+-------+\n",
      "|         lung opacity         | 0.862 |  0.82 | 0.909 |\n",
      "|       pleural effusion       | 0.582 | 0.452 | 0.672 |\n",
      "|         atelectasis          | 0.505 | 0.361 | 0.592 |\n",
      "| enlarged cardiac silhouette  | 0.573 | 0.438 | 0.657 |\n",
      "| pulmonary edema/hazy opacity | 0.484 | 0.328 | 0.561 |\n",
      "|         pneumothorax         | 0.103 | 0.043 | 0.113 |\n",
      "|        consolidation         | 0.248 | 0.108 | 0.262 |\n",
      "| fluid overload/heart failure | 0.166 | 0.067 | 0.183 |\n",
      "|          pneumonia           | 0.362 | 0.222 | 0.416 |\n",
      "|           Average            | 0.432 | 0.315 | 0.485 |\n",
      "|       Weighted Average       | 0.605 | 0.497 | 0.671 |\n",
      "+------------------------------+-------+-------+-------+\n"
     ]
    }
   ],
   "source": [
    "t = PrettyTable()\n",
    "t.field_names = ['Disease', 'mAP', 'mHR', 'mRR']\n",
    "t.title = 'ATH'\n",
    "\n",
    "ap, hr, rr = [], [], []\n",
    "for class_label in nine_class_labels:\n",
    "    mAP = np.mean(df_ath_10[(df_ath_10['label_name'] == class_label)]['AP'].to_numpy())\n",
    "    mHR = np.mean(df_ath_10[(df_ath_10['label_name'] == class_label)]['HR'].to_numpy())\n",
    "    mRR = np.mean(df_ath_10[(df_ath_10['label_name'] == class_label)]['RR'].to_numpy())\n",
    "    t.add_row([class_label, np.round(mAP, 3), np.round(mHR, 3), np.round(mRR, 3)])\n",
    "    ap.append(mAP)\n",
    "    hr.append(mHR)\n",
    "    rr.append(mRR)\n",
    "\n",
    "t.add_row(['Average', np.round(np.mean(ap), 3), np.round(np.mean(hr), 3), np.round(np.mean(rr), 3)])\n",
    "t.add_row(['Weighted Average', np.round(np.average(ap, weights=weights), 3), np.round(np.average(hr, weights=weights), 3), np.round(np.average(rr, weights=weights), 3)])\n",
    "\n",
    "print(t)"
   ]
  },
  {
   "cell_type": "code",
   "execution_count": 55,
   "metadata": {},
   "outputs": [
    {
     "name": "stdout",
     "output_type": "stream",
     "text": [
      "+------------------------------------------------------+\n",
      "|                       ResNet50                       |\n",
      "+------------------------------+-------+-------+-------+\n",
      "|           Disease            |  mAP  |  mHR  |  mRR  |\n",
      "+------------------------------+-------+-------+-------+\n",
      "|         lung opacity         |  0.89 | 0.861 | 0.922 |\n",
      "|       pleural effusion       | 0.644 | 0.541 | 0.732 |\n",
      "|         atelectasis          | 0.557 | 0.435 |  0.65 |\n",
      "| enlarged cardiac silhouette  | 0.598 | 0.485 | 0.685 |\n",
      "| pulmonary edema/hazy opacity | 0.523 | 0.391 | 0.602 |\n",
      "|         pneumothorax         | 0.236 | 0.068 | 0.246 |\n",
      "|        consolidation         | 0.263 | 0.132 | 0.289 |\n",
      "| fluid overload/heart failure | 0.165 | 0.067 | 0.169 |\n",
      "|          pneumonia           | 0.381 | 0.223 | 0.442 |\n",
      "|           Average            | 0.473 | 0.356 | 0.526 |\n",
      "|       Weighted Average       | 0.642 | 0.549 | 0.705 |\n",
      "+------------------------------+-------+-------+-------+\n"
     ]
    }
   ],
   "source": [
    "t = PrettyTable()\n",
    "t.field_names = ['Disease', 'mAP', 'mHR', 'mRR']\n",
    "t.title = 'ResNet50'\n",
    "\n",
    "ap, hr, rr = [], [], []\n",
    "for class_label in nine_class_labels:\n",
    "    mAP = np.mean(df_res_10[(df_res_10['label_name'] == class_label)]['AP'].to_numpy())\n",
    "    mHR = np.mean(df_res_10[(df_res_10['label_name'] == class_label)]['HR'].to_numpy())\n",
    "    mRR = np.mean(df_res_10[(df_res_10['label_name'] == class_label)]['RR'].to_numpy())\n",
    "    t.add_row([class_label, np.round(mAP, 3), np.round(mHR, 3), np.round(mRR, 3)])\n",
    "    ap.append(mAP)\n",
    "    hr.append(mHR)\n",
    "    rr.append(mRR)\n",
    "\n",
    "t.add_row(['Average', np.round(np.mean(ap), 3), np.round(np.mean(hr), 3), np.round(np.mean(rr), 3)])\n",
    "t.add_row(['Weighted Average', np.round(np.average(ap, weights=weights), 3), np.round(np.average(hr, weights=weights), 3), np.round(np.average(rr, weights=weights), 3)])\n",
    "\n",
    "print(t)"
   ]
  },
  {
   "cell_type": "markdown",
   "metadata": {},
   "source": [
    "## P-Value"
   ]
  },
  {
   "cell_type": "code",
   "execution_count": 15,
   "metadata": {},
   "outputs": [
    {
     "name": "stdout",
     "output_type": "stream",
     "text": [
      "+------------------------------------------------------+\n",
      "|                     GT & AnaxNet                     |\n",
      "+------------------------------+-------+-------+-------+\n",
      "|           Disease            |   AP  |   HR  |   RR  |\n",
      "+------------------------------+-------+-------+-------+\n",
      "|         lung opacity         |  0.0  |  0.0  | 0.004 |\n",
      "|       pleural effusion       |  0.0  |  0.0  |  0.0  |\n",
      "|         atelectasis          |  0.0  |  0.0  | 0.004 |\n",
      "| enlarged cardiac silhouette  |  0.0  |  0.0  |  0.0  |\n",
      "| pulmonary edema/hazy opacity |  0.0  |  0.0  |  0.0  |\n",
      "|         pneumothorax         | 0.854 | 0.113 | 0.979 |\n",
      "|        consolidation         | 0.103 | 0.001 | 0.203 |\n",
      "| fluid overload/heart failure |  0.0  |  0.0  | 0.001 |\n",
      "|          pneumonia           | 0.013 |  0.0  | 0.005 |\n",
      "+------------------------------+-------+-------+-------+\n"
     ]
    }
   ],
   "source": [
    "t = PrettyTable()\n",
    "t.field_names = ['Disease', 'AP', 'HR', 'RR']\n",
    "t.title = 'GT & AnaxNet'\n",
    "\n",
    "for class_label in nine_class_labels:\n",
    "\n",
    "    entry = [class_label]\n",
    "    for metric in ['AP', 'HR', 'RR']:\n",
    "        gt_mt_10 = df_gt_10[(df_gt_10['label_name'] == class_label)][metric].to_numpy()\n",
    "        anax_mt_10 = df_anax_10[(df_anax_10['label_name'] == class_label)][metric].to_numpy()\n",
    "        ttest_gt_anax_10 = ttest_rel(gt_mt_10, anax_mt_10)\n",
    "\n",
    "        entry.append(np.round(ttest_gt_anax_10.pvalue, 3))\n",
    "    \n",
    "    t.add_row(entry)\n",
    "\n",
    "print(t)"
   ]
  },
  {
   "cell_type": "code",
   "execution_count": 16,
   "metadata": {},
   "outputs": [
    {
     "name": "stdout",
     "output_type": "stream",
     "text": [
      "+----------------------------------------------------+\n",
      "|                      GT & ATH                      |\n",
      "+------------------------------+-------+-----+-------+\n",
      "|           Disease            |   AP  |  HR |   RR  |\n",
      "+------------------------------+-------+-----+-------+\n",
      "|         lung opacity         |  0.0  | 0.0 |  0.0  |\n",
      "|       pleural effusion       |  0.0  | 0.0 |  0.0  |\n",
      "|         atelectasis          |  0.0  | 0.0 |  0.0  |\n",
      "| enlarged cardiac silhouette  |  0.0  | 0.0 |  0.0  |\n",
      "| pulmonary edema/hazy opacity |  0.0  | 0.0 |  0.0  |\n",
      "|         pneumothorax         |  0.0  | 0.0 |  0.0  |\n",
      "|        consolidation         | 0.006 | 0.0 | 0.002 |\n",
      "| fluid overload/heart failure |  0.0  | 0.0 |  0.0  |\n",
      "|          pneumonia           |  0.0  | 0.0 |  0.0  |\n",
      "+------------------------------+-------+-----+-------+\n"
     ]
    }
   ],
   "source": [
    "t = PrettyTable()\n",
    "t.field_names = ['Disease', 'AP', 'HR', 'RR']\n",
    "t.title = 'GT & ATH'\n",
    "\n",
    "for class_label in nine_class_labels:\n",
    "\n",
    "    entry = [class_label]\n",
    "    for metric in ['AP', 'HR', 'RR']:\n",
    "        gt_mt_10 = df_gt_10[(df_gt['label_name'] == class_label)][metric].to_numpy()\n",
    "        ath_mt_10 = df_ath_10[(df_ath_10['label_name'] == class_label)][metric].to_numpy()\n",
    "        ttest_gt_ath_10 = ttest_rel(gt_mt_10, ath_mt_10)\n",
    "\n",
    "        entry.append(np.round(ttest_gt_ath_10.pvalue, 3))\n",
    "    \n",
    "    t.add_row(entry)\n",
    "\n",
    "print(t)"
   ]
  },
  {
   "cell_type": "code",
   "execution_count": 17,
   "metadata": {},
   "outputs": [
    {
     "name": "stdout",
     "output_type": "stream",
     "text": [
      "+------------------------------------------------------+\n",
      "|                    GT & ResNet50                     |\n",
      "+------------------------------+-------+-------+-------+\n",
      "|           Disease            |   AP  |   HR  |   RR  |\n",
      "+------------------------------+-------+-------+-------+\n",
      "|         lung opacity         |  0.0  |  0.0  | 0.034 |\n",
      "|       pleural effusion       |  0.0  |  0.0  | 0.085 |\n",
      "|         atelectasis          |  0.0  |  0.0  | 0.005 |\n",
      "| enlarged cardiac silhouette  |  0.0  |  0.0  |  0.0  |\n",
      "| pulmonary edema/hazy opacity |  0.0  |  0.0  |  0.0  |\n",
      "|         pneumothorax         | 0.067 |  0.0  | 0.023 |\n",
      "|        consolidation         | 0.035 | 0.286 | 0.054 |\n",
      "| fluid overload/heart failure |  0.0  |  0.0  |  0.0  |\n",
      "|          pneumonia           |  0.0  |  0.0  | 0.001 |\n",
      "+------------------------------+-------+-------+-------+\n"
     ]
    }
   ],
   "source": [
    "t = PrettyTable()\n",
    "t.field_names = ['Disease', 'AP', 'HR', 'RR']\n",
    "t.title = 'GT & ResNet50'\n",
    "\n",
    "for class_label in nine_class_labels:\n",
    "\n",
    "    entry = [class_label]\n",
    "    for metric in ['AP', 'HR', 'RR']:\n",
    "        gt_mt_10 = df_gt_10[(df_gt_10['label_name'] == class_label)][metric].to_numpy()\n",
    "        res_mt_10 = df_res_10[(df_res_10['label_name'] == class_label)][metric].to_numpy()\n",
    "        ttest_gt_res_10 = ttest_rel(gt_mt_10, res_mt_10)\n",
    "\n",
    "        entry.append(np.round(ttest_gt_res_10.pvalue, 3))\n",
    "    \n",
    "    t.add_row(entry)\n",
    "\n",
    "print(t)"
   ]
  },
  {
   "cell_type": "code",
   "execution_count": null,
   "metadata": {},
   "outputs": [],
   "source": []
  }
 ],
 "metadata": {
  "kernelspec": {
   "display_name": "pytorch2",
   "language": "python",
   "name": "python3"
  },
  "language_info": {
   "codemirror_mode": {
    "name": "ipython",
    "version": 3
   },
   "file_extension": ".py",
   "mimetype": "text/x-python",
   "name": "python",
   "nbconvert_exporter": "python",
   "pygments_lexer": "ipython3",
   "version": "3.10.13"
  }
 },
 "nbformat": 4,
 "nbformat_minor": 2
}
