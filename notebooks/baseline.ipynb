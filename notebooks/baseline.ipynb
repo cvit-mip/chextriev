{
 "cells": [
  {
   "cell_type": "code",
   "execution_count": 1,
   "metadata": {},
   "outputs": [],
   "source": [
    "import os\n",
    "import numpy as np\n",
    "import pandas as pd\n",
    "from glob import glob\n",
    "from tqdm import tqdm\n",
    "import faiss\n",
    "\n",
    "import torch\n",
    "import torch.nn as nn\n",
    "import torch.nn.functional as F\n",
    "from torch.utils.data import Dataset, DataLoader\n",
    "\n",
    "from torchvision.models import densenet121"
   ]
  },
  {
   "cell_type": "code",
   "execution_count": 2,
   "metadata": {},
   "outputs": [],
   "source": [
    "import os\n",
    "import sys\n",
    "import inspect\n",
    "\n",
    "currentdir = os.path.dirname(os.path.abspath(inspect.getfile(inspect.currentframe())))\n",
    "parentdir = os.path.dirname(currentdir)\n",
    "sys.path.insert(0, parentdir) \n",
    "\n",
    "from dataloader.mimic_cxr_jpg import CustomDataset"
   ]
  },
  {
   "cell_type": "code",
   "execution_count": 3,
   "metadata": {},
   "outputs": [],
   "source": [
    "os.environ['TORCH_HOME'] = '/ssd_scratch/cvit'"
   ]
  },
  {
   "cell_type": "code",
   "execution_count": 4,
   "metadata": {},
   "outputs": [],
   "source": [
    "def get_metrics(query_label, labels):\n",
    "    \n",
    "    # initialise mean hit ratio, mean reciprocal rank, and mean average precision\n",
    "    MHR, MRR, MAP = [], [], []\n",
    "    \n",
    "    # position, rank, and flag\n",
    "    pos, mrr_flag = 0, False\n",
    "    \n",
    "    # iterate over the neighbors\n",
    "    for rank, label in enumerate(labels):\n",
    "\n",
    "        # its a hit\n",
    "        if (query_label == label).all():\n",
    "            pos += 1\n",
    "            MHR.append(1)\n",
    "            MAP.append(pos/(rank+1))\n",
    "\n",
    "            # its the first hit\n",
    "            if not mrr_flag:\n",
    "                MRR.append(pos/(rank+1))\n",
    "                mrr_flag = True\n",
    "        \n",
    "        # its a miss\n",
    "        else:\n",
    "            MHR.append(0)\n",
    "            MAP.append(0)\n",
    "    \n",
    "    MRR = MRR[0] if len(MRR) else 0\n",
    "    \n",
    "    return sum(MAP)/len(MAP), sum(MHR)/len(MHR), MRR"
   ]
  },
  {
   "cell_type": "code",
   "execution_count": 5,
   "metadata": {},
   "outputs": [],
   "source": [
    "config = {\n",
    "    'batch_size': 32,\n",
    "    'num_workers': 4,\n",
    "    'data_dir': '/ssd_scratch/cvit/arihanth/physionet.org/files/mimic-cxr-jpg/2.0.0/files/',\n",
    "    'device': 'cuda:1',\n",
    "    'hidden_dim': 1000,\n",
    "}\n",
    "\n",
    "train_dataset = CustomDataset(config, None, 'train')\n",
    "train_loader  = DataLoader(train_dataset, batch_size=config['batch_size'], shuffle=True, num_workers=config['num_workers'])\n",
    "\n",
    "val_dataset = CustomDataset(config, None, 'validate')\n",
    "val_loader  = DataLoader(val_dataset, batch_size=config['batch_size'], shuffle=False, num_workers=config['num_workers'])\n",
    "\n",
    "test_dataset = CustomDataset(config, None, 'test')\n",
    "test_loader  = DataLoader(test_dataset, batch_size=config['batch_size'], shuffle=False, num_workers=config['num_workers'])"
   ]
  },
  {
   "cell_type": "code",
   "execution_count": 6,
   "metadata": {},
   "outputs": [
    {
     "data": {
      "text/plain": [
       "(310756, 2539, 4240)"
      ]
     },
     "execution_count": 6,
     "metadata": {},
     "output_type": "execute_result"
    }
   ],
   "source": [
    "len(train_dataset), len(val_dataset), len(test_dataset)"
   ]
  },
  {
   "cell_type": "code",
   "execution_count": 7,
   "metadata": {},
   "outputs": [
    {
     "name": "stderr",
     "output_type": "stream",
     "text": [
      "/home/chocolite/miniconda3/envs/py310/lib/python3.10/site-packages/torchvision/models/_utils.py:208: UserWarning: The parameter 'pretrained' is deprecated since 0.13 and may be removed in the future, please use 'weights' instead.\n",
      "  warnings.warn(\n",
      "/home/chocolite/miniconda3/envs/py310/lib/python3.10/site-packages/torchvision/models/_utils.py:223: UserWarning: Arguments other than a weight enum or `None` for 'weights' are deprecated since 0.13 and may be removed in the future. The current behavior is equivalent to passing `weights=DenseNet121_Weights.IMAGENET1K_V1`. You can also use `weights=DenseNet121_Weights.DEFAULT` to get the most up-to-date weights.\n",
      "  warnings.warn(msg)\n"
     ]
    }
   ],
   "source": [
    "model = densenet121(pretrained=True)\n",
    "model = model.to(config['device'])"
   ]
  },
  {
   "cell_type": "code",
   "execution_count": 8,
   "metadata": {},
   "outputs": [
    {
     "name": "stderr",
     "output_type": "stream",
     "text": [
      "100%|██████████| 80/80 [03:01<00:00,  2.27s/it]\n"
     ]
    }
   ],
   "source": [
    "# build datastore\n",
    "datastore = []\n",
    "for i, (img, label) in tqdm(enumerate(val_loader), total=len(val_loader)):\n",
    "    out = model(img.to(config['device']))\n",
    "    datastore.append(out.cpu().detach().numpy())\n",
    "\n",
    "datastore = np.concatenate(datastore, axis=0)"
   ]
  },
  {
   "cell_type": "code",
   "execution_count": 9,
   "metadata": {},
   "outputs": [
    {
     "name": "stdout",
     "output_type": "stream",
     "text": [
      "True\n"
     ]
    }
   ],
   "source": [
    "index = faiss.IndexFlatL2(config['hidden_dim'])   # build the index\n",
    "print(index.is_trained)"
   ]
  },
  {
   "cell_type": "code",
   "execution_count": 10,
   "metadata": {},
   "outputs": [
    {
     "data": {
      "text/plain": [
       "2539"
      ]
     },
     "execution_count": 10,
     "metadata": {},
     "output_type": "execute_result"
    }
   ],
   "source": [
    "index.add(datastore)\n",
    "index.ntotal"
   ]
  },
  {
   "cell_type": "code",
   "execution_count": 1,
   "metadata": {},
   "outputs": [
    {
     "ename": "NameError",
     "evalue": "name 'tqdm' is not defined",
     "output_type": "error",
     "traceback": [
      "\u001b[0;31m---------------------------------------------------------------------------\u001b[0m",
      "\u001b[0;31mNameError\u001b[0m                                 Traceback (most recent call last)",
      "\u001b[1;32m/home/chocolite/arihanth/baseline.ipynb Cell 11\u001b[0m line \u001b[0;36m3\n\u001b[1;32m      <a href='vscode-notebook-cell://ssh-remote%2Bchocolite/home/chocolite/arihanth/baseline.ipynb#X13sdnNjb2RlLXJlbW90ZQ%3D%3D?line=0'>1</a>\u001b[0m mAP, mHR, mRR \u001b[39m=\u001b[39m [], [], []\n\u001b[0;32m----> <a href='vscode-notebook-cell://ssh-remote%2Bchocolite/home/chocolite/arihanth/baseline.ipynb#X13sdnNjb2RlLXJlbW90ZQ%3D%3D?line=2'>3</a>\u001b[0m \u001b[39mwith\u001b[39;00m tqdm(val_loader) \u001b[39mas\u001b[39;00m pbar:\n\u001b[1;32m      <a href='vscode-notebook-cell://ssh-remote%2Bchocolite/home/chocolite/arihanth/baseline.ipynb#X13sdnNjb2RlLXJlbW90ZQ%3D%3D?line=3'>4</a>\u001b[0m     \u001b[39mfor\u001b[39;00m imgs, query_labels \u001b[39min\u001b[39;00m pbar:\n\u001b[1;32m      <a href='vscode-notebook-cell://ssh-remote%2Bchocolite/home/chocolite/arihanth/baseline.ipynb#X13sdnNjb2RlLXJlbW90ZQ%3D%3D?line=4'>5</a>\u001b[0m         emb \u001b[39m=\u001b[39m model(imgs\u001b[39m.\u001b[39mto(config[\u001b[39m'\u001b[39m\u001b[39mdevice\u001b[39m\u001b[39m'\u001b[39m]))\u001b[39m.\u001b[39mcpu()\u001b[39m.\u001b[39mdetach()\u001b[39m.\u001b[39mnumpy()\n",
      "\u001b[0;31mNameError\u001b[0m: name 'tqdm' is not defined"
     ]
    }
   ],
   "source": [
    "mAP, mHR, mRR = [], [], []\n",
    "\n",
    "with tqdm(val_loader) as pbar:\n",
    "    for imgs, query_labels in pbar:\n",
    "        emb = model(imgs.to(config['device'])).cpu().detach().numpy()\n",
    "        D, I = index.search(emb, 5)\n",
    "\n",
    "        labels = [[val_dataset.__getitem__(i)[1] for i in I[j][1:]] for j in range(I.shape[0])]\n",
    "\n",
    "        for query_label, target_label in zip(query_labels, labels):\n",
    "            MAP, MHR, MRR = get_metrics(query_label, target_label)\n",
    "            mAP.append(MAP)\n",
    "            mHR.append(MHR)\n",
    "            if MRR:\n",
    "                mRR.append(MRR)\n",
    "        \n",
    "        pbar.set_postfix({'mAP': sum(mAP)/len(mAP), 'mHR': sum(mHR)/len(mHR), 'mRR': sum(mRR)/len(mRR)})"
   ]
  },
  {
   "cell_type": "code",
   "execution_count": null,
   "metadata": {},
   "outputs": [],
   "source": []
  }
 ],
 "metadata": {
  "kernelspec": {
   "display_name": "py310",
   "language": "python",
   "name": "python3"
  },
  "language_info": {
   "codemirror_mode": {
    "name": "ipython",
    "version": 3
   },
   "file_extension": ".py",
   "mimetype": "text/x-python",
   "name": "python",
   "nbconvert_exporter": "python",
   "pygments_lexer": "ipython3",
   "version": "3.10.12"
  },
  "orig_nbformat": 4
 },
 "nbformat": 4,
 "nbformat_minor": 2
}
